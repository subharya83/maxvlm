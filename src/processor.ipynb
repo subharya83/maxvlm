

pip install pymatgen
     
Collecting pymatgen
  Downloading pymatgen-2025.6.14-cp311-cp311-manylinux_2_17_x86_64.manylinux2014_x86_64.whl.metadata (13 kB)
Collecting bibtexparser>=1.4.0 (from pymatgen)
  Downloading bibtexparser-1.4.3.tar.gz (55 kB)
     ━━━━━━━━━━━━━━━━━━━━━━━━━━━━━━━━━━━━━━━━ 0.0/55.6 kB ? eta -:--:--
     ━━━━━━━━━━━━━━━━━━━━━━━━━━━━━━━━━━━━━━━━ 55.6/55.6 kB 4.0 MB/s eta 0:00:00
  Preparing metadata (setup.py) ... done
Requirement already satisfied: joblib>=1 in /usr/local/lib/python3.11/dist-packages (from pymatgen) (1.5.1)
Requirement already satisfied: matplotlib>=3.8 in /usr/local/lib/python3.11/dist-packages (from pymatgen) (3.10.0)
Collecting monty>=2025.1.9 (from pymatgen)
  Downloading monty-2025.3.3-py3-none-any.whl.metadata (3.6 kB)
Requirement already satisfied: networkx>=2.7 in /usr/local/lib/python3.11/dist-packages (from pymatgen) (3.5)
Requirement already satisfied: numpy<3,>=1.25.0 in /usr/local/lib/python3.11/dist-packages (from pymatgen) (2.0.2)
Requirement already satisfied: orjson<4,>=3.10 in /usr/local/lib/python3.11/dist-packages (from pymatgen) (3.11.1)
Collecting palettable>=3.3.3 (from pymatgen)
  Downloading palettable-3.3.3-py2.py3-none-any.whl.metadata (3.3 kB)
Requirement already satisfied: pandas>=2 in /usr/local/lib/python3.11/dist-packages (from pymatgen) (2.2.2)
Requirement already satisfied: plotly>=5.0.0 in /usr/local/lib/python3.11/dist-packages (from pymatgen) (5.24.1)
Requirement already satisfied: requests>=2.32 in /usr/local/lib/python3.11/dist-packages (from pymatgen) (2.32.3)
Collecting ruamel.yaml>=0.17.0 (from pymatgen)
  Downloading ruamel.yaml-0.18.14-py3-none-any.whl.metadata (24 kB)
Requirement already satisfied: scipy>=1.13.0 in /usr/local/lib/python3.11/dist-packages (from pymatgen) (1.16.0)
Collecting spglib>=2.5 (from pymatgen)
  Downloading spglib-2.6.0-cp311-cp311-manylinux_2_17_x86_64.manylinux2014_x86_64.whl.metadata (4.2 kB)
Requirement already satisfied: sympy>=1.3 in /usr/local/lib/python3.11/dist-packages (from pymatgen) (1.13.1)
Requirement already satisfied: tabulate>=0.9 in /usr/local/lib/python3.11/dist-packages (from pymatgen) (0.9.0)
Requirement already satisfied: tqdm>=4.60 in /usr/local/lib/python3.11/dist-packages (from pymatgen) (4.67.1)
Collecting uncertainties>=3.1.4 (from pymatgen)
  Downloading uncertainties-3.2.3-py3-none-any.whl.metadata (7.0 kB)
Requirement already satisfied: pyparsing>=2.0.3 in /usr/local/lib/python3.11/dist-packages (from bibtexparser>=1.4.0->pymatgen) (3.2.3)
Requirement already satisfied: contourpy>=1.0.1 in /usr/local/lib/python3.11/dist-packages (from matplotlib>=3.8->pymatgen) (1.3.2)
Requirement already satisfied: cycler>=0.10 in /usr/local/lib/python3.11/dist-packages (from matplotlib>=3.8->pymatgen) (0.12.1)
Requirement already satisfied: fonttools>=4.22.0 in /usr/local/lib/python3.11/dist-packages (from matplotlib>=3.8->pymatgen) (4.59.0)
Requirement already satisfied: kiwisolver>=1.3.1 in /usr/local/lib/python3.11/dist-packages (from matplotlib>=3.8->pymatgen) (1.4.8)
Requirement already satisfied: packaging>=20.0 in /usr/local/lib/python3.11/dist-packages (from matplotlib>=3.8->pymatgen) (25.0)
Requirement already satisfied: pillow>=8 in /usr/local/lib/python3.11/dist-packages (from matplotlib>=3.8->pymatgen) (11.3.0)
Requirement already satisfied: python-dateutil>=2.7 in /usr/local/lib/python3.11/dist-packages (from matplotlib>=3.8->pymatgen) (2.9.0.post0)
Requirement already satisfied: pytz>=2020.1 in /usr/local/lib/python3.11/dist-packages (from pandas>=2->pymatgen) (2025.2)
Requirement already satisfied: tzdata>=2022.7 in /usr/local/lib/python3.11/dist-packages (from pandas>=2->pymatgen) (2025.2)
Requirement already satisfied: tenacity>=6.2.0 in /usr/local/lib/python3.11/dist-packages (from plotly>=5.0.0->pymatgen) (8.5.0)
Requirement already satisfied: charset-normalizer<4,>=2 in /usr/local/lib/python3.11/dist-packages (from requests>=2.32->pymatgen) (3.4.2)
Requirement already satisfied: idna<4,>=2.5 in /usr/local/lib/python3.11/dist-packages (from requests>=2.32->pymatgen) (3.10)
Requirement already satisfied: urllib3<3,>=1.21.1 in /usr/local/lib/python3.11/dist-packages (from requests>=2.32->pymatgen) (2.5.0)
Requirement already satisfied: certifi>=2017.4.17 in /usr/local/lib/python3.11/dist-packages (from requests>=2.32->pymatgen) (2025.7.14)
Collecting ruamel.yaml.clib>=0.2.7 (from ruamel.yaml>=0.17.0->pymatgen)
  Downloading ruamel.yaml.clib-0.2.12-cp311-cp311-manylinux_2_17_x86_64.manylinux2014_x86_64.whl.metadata (2.7 kB)
Requirement already satisfied: typing-extensions>=4.9.0 in /usr/local/lib/python3.11/dist-packages (from spglib>=2.5->pymatgen) (4.14.1)
Requirement already satisfied: mpmath<1.4,>=1.1.0 in /usr/local/lib/python3.11/dist-packages (from sympy>=1.3->pymatgen) (1.3.0)
Requirement already satisfied: six>=1.5 in /usr/local/lib/python3.11/dist-packages (from python-dateutil>=2.7->matplotlib>=3.8->pymatgen) (1.17.0)
Downloading pymatgen-2025.6.14-cp311-cp311-manylinux_2_17_x86_64.manylinux2014_x86_64.whl (5.1 MB)
   ━━━━━━━━━━━━━━━━━━━━━━━━━━━━━━━━━━━━━━━━ 5.1/5.1 MB 97.7 MB/s eta 0:00:00
Downloading monty-2025.3.3-py3-none-any.whl (51 kB)
   ━━━━━━━━━━━━━━━━━━━━━━━━━━━━━━━━━━━━━━━━ 51.9/51.9 kB 3.7 MB/s eta 0:00:00
Downloading palettable-3.3.3-py2.py3-none-any.whl (332 kB)
   ━━━━━━━━━━━━━━━━━━━━━━━━━━━━━━━━━━━━━━━━ 332.3/332.3 kB 23.7 MB/s eta 0:00:00
Downloading ruamel.yaml-0.18.14-py3-none-any.whl (118 kB)
   ━━━━━━━━━━━━━━━━━━━━━━━━━━━━━━━━━━━━━━━━ 118.6/118.6 kB 9.6 MB/s eta 0:00:00
Downloading spglib-2.6.0-cp311-cp311-manylinux_2_17_x86_64.manylinux2014_x86_64.whl (809 kB)
   ━━━━━━━━━━━━━━━━━━━━━━━━━━━━━━━━━━━━━━━━ 809.0/809.0 kB 43.3 MB/s eta 0:00:00
Downloading uncertainties-3.2.3-py3-none-any.whl (60 kB)
   ━━━━━━━━━━━━━━━━━━━━━━━━━━━━━━━━━━━━━━━━ 60.1/60.1 kB 4.7 MB/s eta 0:00:00
Downloading ruamel.yaml.clib-0.2.12-cp311-cp311-manylinux_2_17_x86_64.manylinux2014_x86_64.whl (739 kB)
   ━━━━━━━━━━━━━━━━━━━━━━━━━━━━━━━━━━━━━━━━ 739.1/739.1 kB 45.4 MB/s eta 0:00:00
Building wheels for collected packages: bibtexparser
  Building wheel for bibtexparser (setup.py) ... done
  Created wheel for bibtexparser: filename=bibtexparser-1.4.3-py3-none-any.whl size=43549 sha256=040aaf1c23e41df4f9af1dbf98ca49c93e133c00223820818a9df2f31f4d58ed
  Stored in directory: /root/.cache/pip/wheels/16/fb/76/306387739cf9d53b1c39b0c8aadbbb17dc05f256756d8fd915
Successfully built bibtexparser
Installing collected packages: uncertainties, spglib, ruamel.yaml.clib, palettable, bibtexparser, ruamel.yaml, monty, pymatgen
Successfully installed bibtexparser-1.4.3 monty-2025.3.3 palettable-3.3.3 pymatgen-2025.6.14 ruamel.yaml-0.18.14 ruamel.yaml.clib-0.2.12 spglib-2.6.0 uncertainties-3.2.3

from google.colab import userdata
APIKEY=userdata.get('APIKEY')
     

import pandas as pd
import numpy as np
from pymatgen.core import Structure
from pymatgen.ext.matproj import MPRester
import math
     

element_df = pd.read_csv('Elemental_property_data.csv')
     

element_df
     
Symbol	Atomic number	Group	Period	Density	Electronegativity	Ionisation Energy	Atomic radius	UE
0	H	1	1	1	0.000090	2.20	13.598	120	1
1	He	2	18	1	0.000179	0.00	24.587	140	0
2	Li	3	1	2	0.534000	0.98	5.392	182	1
3	Be	4	2	2	1.850000	1.57	9.323	153	0
4	B	5	13	2	2.370000	2.04	8.298	192	1
...	...	...	...	...	...	...	...	...	...
90	Pa	91	3	7	15.370000	1.50	5.890	243	3
91	U	92	3	7	18.950000	1.38	6.194	240	4
92	Np	93	3	7	20.250000	1.36	6.266	221	5
93	Pu	94	3	7	19.840000	1.28	6.060	243	6
94	Am	95	3	7	13.690000	1.30	5.993	244	7
95 rows × 9 columns


from sklearn.preprocessing import StandardScaler
from sklearn.preprocessing import LabelEncoder
encoder = LabelEncoder()

features = element_df[['Atomic number', 'Group', 'Period', 'Density',
       'Electronegativity', 'UE', 'Ionisation Energy', 'Atomic radius']]
scaled_features = StandardScaler().fit_transform(features)

squared_features = np.square(scaled_features)
extended_features = np.hstack((scaled_features, squared_features))

element_df['vector'] = list(extended_features)
     

element_df
     
Symbol	Atomic number	Group	Period	Density	Electronegativity	Ionisation Energy	Atomic radius	UE	vector
0	H	1	1	1	0.000090	2.20	13.598	120	1	[-1.713913650100261, -1.2596244465496966, -2.5...
1	He	2	18	1	0.000179	0.00	24.587	140	0	[-1.6774474022257875, 1.6674165335621884, -2.5...
2	Li	3	1	2	0.534000	0.98	5.392	182	1	[-1.6409811543513138, -1.2596244465496966, -1....
3	Be	4	2	2	1.850000	1.57	9.323	153	0	[-1.6045149064768403, -1.0874455653666446, -1....
4	B	5	13	2	2.370000	2.04	8.298	192	1	[-1.5680486586023665, 0.8065221276469281, -1.8...
...	...	...	...	...	...	...	...	...	...	...
90	Pa	91	3	7	15.370000	1.50	5.890	243	3	[1.5680486586023665, -0.9152666841835926, 1.42...
91	U	92	3	7	18.950000	1.38	6.194	240	4	[1.6045149064768403, -0.9152666841835926, 1.42...
92	Np	93	3	7	20.250000	1.36	6.266	221	5	[1.6409811543513138, -0.9152666841835926, 1.42...
93	Pu	94	3	7	19.840000	1.28	6.060	243	6	[1.6774474022257875, -0.9152666841835926, 1.42...
94	Am	95	3	7	13.690000	1.30	5.993	244	7	[1.713913650100261, -0.9152666841835926, 1.427...
95 rows × 10 columns


element_df['vector'][0]
     
array([-1.71391365, -1.25962445, -2.52182563, -1.28035317,  0.73052027,
       -0.63634077,  1.60645454, -2.28696925,  2.9375    ,  1.58665375,
        6.35960449,  1.63930425,  0.53365987,  0.40492958,  2.58069618,
        5.23022834])

element_df = element_df.filter(items=['Symbol','vector'])
element_df
     
Symbol	vector
0	H	[-1.713913650100261, -1.2596244465496966, -2.5...
1	He	[-1.6774474022257875, 1.6674165335621884, -2.5...
2	Li	[-1.6409811543513138, -1.2596244465496966, -1....
3	Be	[-1.6045149064768403, -1.0874455653666446, -1....
4	B	[-1.5680486586023665, 0.8065221276469281, -1.8...
...	...	...
90	Pa	[1.5680486586023665, -0.9152666841835926, 1.42...
91	U	[1.6045149064768403, -0.9152666841835926, 1.42...
92	Np	[1.6409811543513138, -0.9152666841835926, 1.42...
93	Pu	[1.6774474022257875, -0.9152666841835926, 1.42...
94	Am	[1.713913650100261, -0.9152666841835926, 1.427...
95 rows × 2 columns


element_df.rename(columns={'Symbol': 'Element', 'vector': 'Vector'}, inplace=True)
     

compound_df=  pd.read_excel('Compound_property_data.xlsx')
     

compound_df
     
nsites	Chemsys	material_id	ordering	total_magnetization	total_magnetization_normalized_vol	total_magnetization_normalized_atoms	formation_energy_per_atom	energy_above_hull
0	5	Ac-Cr-O	mp-866101	FM	3.000000	0.048890	0.600000	-3.138972	0
1	4	Ac-Au-Eu	mp-1006278	FM	7.413205	0.066629	1.853301	-0.779867	0
2	4	Ac-Eu-Zn	mp-1183124	FM	7.023200	0.062251	1.755800	-0.261696	0
3	5	Ac-Fe-O	mp-861502	FM	4.254276	0.068842	0.850855	-2.771539	0
4	5	Ac-Mn-O	mp-864911	FM	3.999993	0.064266	0.799999	-2.973630	0
...	...	...	...	...	...	...	...	...	...
5949	18	Sb-U-Zr	mp-12889	FM	15.857187	0.033430	0.880955	-0.746757	0
5950	4	N-U-Zr	mp-1215248	FM	2.095059	0.039252	0.523765	-1.840461	0
5951	4	S-U-Zr	mp-1215176	FM	2.742706	0.035114	0.685677	-1.662938	0
5952	12	Fe-V-Zr	mp-1215261	FiM	2.937033	0.015563	0.244753	-0.187117	0
5953	6	Zn-Zr	mp-1401	FM	2.207073	0.022170	0.367846	-0.368674	0
5954 rows × 9 columns


categories_to_keep = ['FM','FiM']
compound_df = compound_df[compound_df['ordering'].isin(categories_to_keep)]
     

counts = compound_df['ordering'].value_counts()
counts
     
count
ordering	
FM	4483
FiM	1258

dtype: int64

unique_categories = compound_df['ordering'].unique()
print(unique_categories)
     
['FM' 'FiM']
Feature engineering

outer_product_results = []

def calculate_outer_products_with_elemental_stats(structure, cutoff_radius, element_df, supercell_size):
    original_structure = structure.copy()
    original_indices = list(range(len(original_structure)))
    supercell = structure * supercell_size

    tolerance = 1e-6

    a1, a2, a3 = structure.lattice.matrix

    original_cart_coords = [site.coords for site in structure]

    original_indices_in_supercell = []

    for i, site in enumerate(supercell):
        for orig in original_cart_coords:
            if np.linalg.norm(site.coords - orig) < tolerance:
                original_indices_in_supercell.append(i)
                break


    elements = supercell.species
    outer_product_matrices = []
    distances = []
    en_differences = []
    en_sq=[]

    for i in original_indices_in_supercell:
        for j in range(len(supercell)):
            distance = supercell.get_distance(i, j)

            if distance <= cutoff_radius and distance > 0:
                row_vector_i = element_df.loc[element_df['Element'] == str(elements[i]), 'Vector'].values[0]
                row_vector_j = element_df.loc[element_df['Element'] == str(elements[j]), 'Vector'].values[0]

                outer_product = np.outer(row_vector_i, row_vector_j)/(distance*distance)

                outer_product_matrices.append(outer_product)

                distances.append(distance)

                en_i = row_vector_i[4]
                en_j = row_vector_j[4]
                en_diff1 = abs(en_i - en_j)
                en_diff2 = abs(en_i*en_i - en_j*en_j)

                en_differences.append(en_diff1)
                en_sq.append(en_diff2)

    outer_product_matrices = np.array(outer_product_matrices)

    mean_matrix = np.mean(outer_product_matrices, axis=0)
    std_matrix = np.std(outer_product_matrices, axis=0)

    dist_mean = np.mean(distances)
    dist_std = np.std(distances)

    en_diff_mean = np.mean(en_differences)
    en_diff_std = np.std(en_differences)
    en_sq_mean = np.mean(en_sq)
    en_sq_std = np.std(en_sq)

    elemental_vectors = []

    flattened_mean = mean_matrix.flatten()
    flattened_std = std_matrix.flatten()

    feature_vector = np.concatenate([flattened_mean, flattened_std, [dist_mean, dist_std], [en_diff_mean, en_diff_std], [en_sq_mean, en_sq_std]])

    return feature_vector

cutoff_radius = 5
supercell_size = (4, 4, 4)

for _, row in compound_df.iterrows():
    material_id = row['material_id']

    try:
        with MPRester(APIKEY) as m:
            structure = m.get_structure_by_material_id(material_id)
            print(f"Processing material: {material_id}")

        feature_vector = calculate_outer_products_with_elemental_stats(structure, cutoff_radius, element_df, supercell_size)

        outer_product_results.append({'material_id': material_id, 'features': feature_vector})

    except Exception as e:
        print(f"Error processing material {material_id}: {e}")
        continue

df_features = pd.DataFrame(outer_product_results)

print(df_features)
     
Streaming output truncated to the last 5000 lines.
Processing material: mp-862292
Processing material: mp-698212
Processing material: mp-1213800
Processing material: mp-1213853
Processing material: mp-582245
Processing material: mp-23252
Processing material: mp-569330
Processing material: mp-542752
Processing material: mp-30944
Processing material: mp-1213824
Processing material: mp-1213848
Processing material: mp-29776
Processing material: mp-675328
Processing material: mp-1226890
Processing material: mp-1199723
Processing material: mp-1205465
Processing material: mp-1227331
Processing material: mp-1105809
Processing material: mp-1206019
Processing material: mp-641183
Processing material: mp-1226869
Processing material: mp-1193043
Processing material: mp-1105171
Processing material: mp-670677
Processing material: mp-1192858
Processing material: mp-1106401
Processing material: mp-1213880
Processing material: mp-1226853
Processing material: mp-1229080
Processing material: mp-1189550
Processing material: mp-1189602
Processing material: mp-1214716
Processing material: mp-542005
Processing material: mp-21651
Processing material: mp-1189506
Processing material: mp-1200696
Processing material: mp-1199773
Processing material: mp-1213986
Processing material: mp-680536
Processing material: mp-640447
Processing material: mp-32613
Processing material: mp-1190312
Processing material: mp-510369
Processing material: mp-570175
Processing material: mp-637308
Processing material: mp-1213873
Processing material: mp-21693
Processing material: mp-1192664
Processing material: mp-1214373
Processing material: mp-1214139
Processing material: mp-676287
Processing material: mp-568922
Processing material: mp-1106112
Processing material: mp-2629
Processing material: mp-583042
Processing material: mp-1202101
Processing material: mp-1206322
Processing material: mp-985705
Processing material: mp-865885
Processing material: mp-13407
Processing material: mp-510280
Processing material: mp-31420
Processing material: mp-2088
Processing material: mp-1226637
Processing material: mp-1226644
Processing material: mp-1025445
Processing material: mp-567305
Processing material: mp-1226650
Processing material: mp-1070063
Processing material: mp-1069443
Processing material: mp-4785
Processing material: mp-13504
Processing material: mp-30750
Processing material: mp-1213792
Processing material: mp-4817
Processing material: mp-672344
Processing material: mp-1213784
Processing material: mp-1102423
Processing material: mp-1079868
Processing material: mp-1226887
Processing material: mp-1206755
Processing material: mp-20603
Processing material: mp-867361
Processing material: mp-30512
Processing material: mp-1184197
Processing material: mp-1226573
Processing material: mp-2767168
Processing material: mp-753493
Processing material: mp-1226527
Processing material: mp-1226542
Processing material: mp-984048
Processing material: mp-1226769
Processing material: mp-1226462
Processing material: mp-1006256
Processing material: mp-640370
Processing material: mp-1385
Processing material: mp-1188098
Processing material: mp-7247
Processing material: mp-13118
Processing material: mp-1226482
Processing material: mp-13549
Processing material: mp-1018671
Processing material: mp-19927
Processing material: mp-1006399
Processing material: mp-1079342
Processing material: mp-13381
Processing material: mp-12504
Processing material: mp-607738
Processing material: mp-1226464
Processing material: mp-1213767
Processing material: mp-22724
Processing material: mp-19292
Processing material: mp-28137
Processing material: mp-30006
Processing material: mp-773130
Processing material: mp-754168
Processing material: mp-19238
Processing material: mp-31516
Processing material: mp-546936
Processing material: mp-757299
Processing material: mp-705564
Processing material: mp-705094
Processing material: mp-19955
Processing material: mp-548805
Processing material: mp-22204
Processing material: mp-550468
Processing material: mp-19905
Processing material: mp-36028
Processing material: mp-18855
Processing material: mp-562111
Processing material: mp-22632
Processing material: mp-19264
Processing material: mp-19807
Processing material: mp-1183837
Processing material: mp-1271793
Processing material: mp-865193
Processing material: mp-943
Processing material: mp-645717
Processing material: mp-1226019
Processing material: mp-33332
Processing material: mp-17489
Processing material: mp-685142
Processing material: mp-2767725
Processing material: mp-29758
Processing material: mp-30033
Processing material: mp-21434
Processing material: mp-23240
Processing material: mp-555908
Processing material: mp-1206874
Processing material: mp-569610
Processing material: mp-1178424
Processing material: mp-1226004
Processing material: mp-1400906
Processing material: mp-562669
Processing material: mp-2761326
Processing material: mp-949
Processing material: mp-922
Processing material: mp-556492
Processing material: mp-865960
Processing material: mp-1226106
Processing material: mp-2070
Processing material: mp-19379
Processing material: mp-20862
Processing material: mp-18973
Processing material: mp-551407
Processing material: mp-561319
Processing material: mp-865733
Processing material: mp-9945
Processing material: mp-1178448
Processing material: mp-554600
Processing material: mp-505626
Processing material: mp-647862
Processing material: mp-641575
Processing material: mp-1238827
Processing material: mp-20118
Processing material: mp-19262
Processing material: mp-4338
Processing material: mp-22605
Processing material: mp-20758
Processing material: mp-22803
Processing material: mp-3880
Processing material: mp-22625
Processing material: mp-1104680
Processing material: mp-21074
Processing material: mp-15973
Processing material: mp-5602
Processing material: mp-1974686
Processing material: mp-19399
Processing material: mp-554453
Processing material: mp-555569
Processing material: mp-2832
Processing material: mp-2750
Processing material: mp-540537
Processing material: mp-21355
Processing material: mp-546111
Processing material: mp-1226433
Processing material: mp-1226323
Processing material: mp-1226264
Processing material: mp-1226160
Processing material: mp-773920
Processing material: mp-1181961
Processing material: mp-1104327
Processing material: mp-1213754
Processing material: mp-19378
Processing material: mp-3532
Processing material: mp-20717
Processing material: mp-1204934
Processing material: mp-1070789
Processing material: mp-996996
Processing material: mp-7113
Processing material: mp-19299
Processing material: mp-27734
Processing material: mp-559161
Processing material: mp-567504
Processing material: mp-22946
Processing material: mp-1183740
Processing material: mp-18788
Processing material: mp-1102834
Processing material: mp-554340
Processing material: mp-560338
Processing material: mp-554855
Processing material: mp-639662
Processing material: mp-21495
Processing material: mp-1183690
Processing material: mp-1183688
Processing material: mp-8829
Processing material: mp-1206594
Processing material: mp-541449
Processing material: mp-23910
Processing material: mp-558864
Processing material: mp-1213805
Processing material: mp-12083
Processing material: mp-753633
Processing material: mp-557158
Processing material: mp-1213733
Processing material: mp-4989
Processing material: mp-690539
Processing material: mp-18726
Processing material: mp-1101790
Processing material: mp-19177
Processing material: mp-19401
Processing material: mp-1197980
Processing material: mp-865786
Processing material: mp-1063607
Processing material: mp-1206750
Processing material: mp-2515
Processing material: mp-12585
Processing material: mp-755263
Processing material: mp-22998
Processing material: mp-22498
Processing material: mp-557145
Processing material: mp-9130
Processing material: mp-15236
Processing material: mp-1009581
Processing material: mp-865791
Processing material: mp-3779
Processing material: mp-1018066
Processing material: mp-685055
Processing material: mp-540922
Processing material: mp-12743
Processing material: mp-18785
Processing material: mp-557018
Processing material: mp-1238823
Processing material: mp-28884
Processing material: mp-1207125
Processing material: mp-1229166
Processing material: mp-1229235
Processing material: mp-510565
Processing material: mp-1206546
Processing material: mp-1214168
Processing material: mp-1193242
Processing material: mp-610706
Processing material: mp-28497
Processing material: mp-557324
Processing material: mp-1192723
Processing material: mp-616439
Processing material: mp-1025265
Processing material: mp-2042825
Processing material: mp-1214346
Processing material: mp-1213714
Processing material: mp-17443
Processing material: mp-1213731
Processing material: mp-28651
Processing material: mp-572797
Processing material: mp-2884
Processing material: mp-3704
Processing material: mp-5927
Processing material: mp-1025252
Processing material: mp-1205772
Processing material: mp-1206528
Processing material: mp-555223
Processing material: mp-557912
Processing material: mp-505300
Processing material: mp-505034
Processing material: mp-573947
Processing material: mp-610744
Processing material: mp-1207229
Processing material: mp-570990
Processing material: mp-8995
Processing material: mp-755100
Processing material: mp-647426
Processing material: mp-1025274
Processing material: mp-571448
Processing material: mp-1025208
Processing material: mp-567942
Processing material: mp-1205774
Processing material: mp-1206623
Processing material: mp-17546
Processing material: mp-1184201
Processing material: mp-569885
Processing material: mp-1205840
Processing material: mp-1079364
Processing material: mp-1206848
Processing material: mp-540735
Processing material: mp-23077
Processing material: mp-1192739
Processing material: mp-560444
Processing material: mp-1206014
Processing material: mp-27239
Processing material: mp-541753
Processing material: mp-30234
Processing material: mp-1228215
Processing material: mp-1214351
Processing material: mp-632715
Processing material: mp-29287
Processing material: mp-1105622
Processing material: mp-569323
Processing material: mp-23451
Processing material: mp-1193179
Processing material: mp-621938
Processing material: mp-614724
Processing material: mp-541662
Processing material: mp-1205629
Processing material: mp-1193066
Processing material: mp-1193282
Processing material: mp-1194302
Processing material: mp-27332
Processing material: mp-504451
Processing material: mp-643706
Processing material: mp-569118
Processing material: mp-23015
Processing material: mp-541742
Processing material: mp-1192748
Processing material: mp-1203892
Processing material: mp-1112963
Processing material: mp-1205746
Processing material: mp-541084
Processing material: mp-1206041
Processing material: mp-1196471
Processing material: mp-505031
Processing material: mp-1191216
Processing material: mp-616023
Processing material: mp-1205381
Processing material: mp-1201003
Processing material: mp-561672
Processing material: mp-1226457
Processing material: mp-17733
Processing material: mp-1201412
Processing material: mp-773199
Processing material: mp-1193081
Processing material: mp-1195066
Processing material: mp-573016
Processing material: mp-573073
Processing material: mp-562028
Processing material: mp-563023
Processing material: mp-1198953
Processing material: mp-1201016
Processing material: mp-7015
Processing material: mp-504708
Processing material: mp-1202342
Processing material: mp-1029491
Processing material: mp-1189724
Processing material: mp-573422
Processing material: mp-540569
Processing material: mp-505149
Processing material: mp-866025
Processing material: mp-29616
Processing material: mp-27149
Processing material: mp-572903
Processing material: mp-23032
Processing material: mp-29613
Processing material: mp-638685
Processing material: mp-1213256
Processing material: mp-1197505
Processing material: mp-662563
Processing material: mp-1213351
Processing material: mp-29400
Processing material: mp-27570
Processing material: mp-554225
Processing material: mp-568620
Processing material: mp-1080749
Processing material: mp-505632
Processing material: mp-1213349
Processing material: mp-755651
Processing material: mp-9084
Processing material: mp-1104966
Processing material: mp-1029801
Processing material: mp-567499
Processing material: mp-23048
Processing material: mp-23336
Processing material: mp-558702
Processing material: mp-554411
Processing material: mp-540609
Processing material: mp-2741979
Processing material: mp-998609
Processing material: mp-647818
Processing material: mp-1080570
Processing material: mp-22950
Processing material: mp-557772
Processing material: mp-2037681
Processing material: mp-5972
Processing material: mp-9632
Processing material: mp-8015
Processing material: mp-505663
Processing material: mp-1105859
Processing material: mp-22962
Processing material: mp-28283
Processing material: mp-504701
Processing material: mp-567698
Processing material: mp-1225971
Processing material: mp-2747986
Processing material: mp-7322
Processing material: mp-556690
Processing material: mp-7489
Processing material: mp-1197456
Processing material: mp-1104613
Processing material: mp-23038
Processing material: mp-22977
Processing material: mp-1192215
Processing material: mp-22991
Processing material: mp-30974
Processing material: mp-4870
Processing material: mp-505042
Processing material: mp-556582
Processing material: mp-640926
Processing material: mp-17224
Processing material: mp-1188790
Processing material: mp-504753
Processing material: mp-647164
Processing material: mp-3638
Processing material: mp-17281
Processing material: mp-1203235
Processing material: mp-560561
Processing material: mp-554614
Processing material: mp-1192764
Processing material: mp-4093
Processing material: mp-1232290
Processing material: mp-20683
Processing material: mp-541147
Processing material: mp-996975
Processing material: mp-28376
Processing material: mp-996978
Processing material: mp-30999
Processing material: mp-1229
Processing material: mp-19859
Processing material: mp-1017556
Processing material: mp-505436
Processing material: mp-1213055
Processing material: mp-1213075
Processing material: mp-28488
Processing material: mp-20525
Processing material: mp-3199
Processing material: mp-22688
Processing material: mp-554040
Processing material: mp-4701
Processing material: mp-5091
Processing material: mp-1225629
Processing material: mp-1106057
Processing material: mp-9420
Processing material: mp-568725
Processing material: mp-21426
Processing material: mp-1193865
Processing material: mp-4939
Processing material: mp-1104284
Processing material: mp-1104103
Processing material: mp-21000
Processing material: mp-20668
Processing material: mp-4985
Processing material: mp-1213205
Processing material: mp-543017
Processing material: mp-1213247
Processing material: mp-1213103
Processing material: mp-1105331
Processing material: mp-573622
Processing material: mp-1213460
Processing material: mp-12574
Processing material: mp-1191588
Processing material: mp-1106070
Processing material: mp-1206614
Processing material: mp-865105
Processing material: mp-15898
Processing material: mp-1025323
Processing material: mp-1190791
Processing material: mp-4023
Processing material: mp-571165
Processing material: mp-1225366
Processing material: mp-1206476
Processing material: mp-21351
Processing material: mp-1190617
Processing material: mp-755869
Processing material: mp-505334
Processing material: mp-865205
Processing material: mp-505682
Processing material: mp-19950
Processing material: mp-1184105
Processing material: mp-1207275
Processing material: mp-1212952
Processing material: mp-1192098
Processing material: mp-14356
Processing material: mp-7281
Processing material: mp-1213457
Processing material: mp-1192305
Processing material: mp-1205839
Processing material: mp-1212913
Processing material: mp-1105361
Processing material: mp-1225661
Processing material: mp-1213372
Processing material: mp-568144
Processing material: mp-640372
Processing material: mp-1189399
Processing material: mp-1198914
Processing material: mp-1079700
Processing material: mp-2038487
Processing material: mp-10516
Processing material: mp-1213291
Processing material: mp-1207016
Processing material: mp-1212830
Processing material: mp-3183
Processing material: mp-1071811
Processing material: mp-2628
Processing material: mp-568945
Processing material: mp-20193
Processing material: mp-1195923
Processing material: mp-2024042
Processing material: mp-1204813
Processing material: mp-1212868
Processing material: mp-20350
Processing material: mp-22228
Processing material: mp-19381
Processing material: mp-18754
Processing material: mp-1757
Processing material: mp-1101819
Processing material: mp-1201079
Processing material: mp-1191987
Processing material: mp-1018065
Processing material: mp-22698
Processing material: mp-30604
Processing material: mp-1106015
Processing material: mp-1225502
Processing material: mp-20656
Processing material: mp-18601
Processing material: mp-1190895
Processing material: mp-542479
Processing material: mp-1102078
Processing material: mp-1077279
Processing material: mp-1179
Processing material: mp-19265
Processing material: mp-1018677
Processing material: mp-1225766
Processing material: mp-20626
Processing material: mp-20954
Processing material: mp-1225554
Processing material: mp-22789
Processing material: mp-1181506
Processing material: mp-1184149
Processing material: mp-3633
Processing material: mp-1225092
Processing material: mp-1188589
Processing material: mp-15186
Processing material: mp-3190
Processing material: mp-5451
Processing material: mp-1202201
Processing material: mp-5688
Processing material: mp-31197
Processing material: mp-1104959
Processing material: mp-1104101
Processing material: mp-4487
Processing material: mp-3453
Processing material: mp-4729
Processing material: mp-1103936
Processing material: mp-2764339
Processing material: mp-1198824
Processing material: mp-28472
Processing material: mp-1197179
Processing material: mp-1213203
Processing material: mp-1212883
Processing material: mp-1212895
Processing material: mp-1213669
Processing material: mp-567849
Processing material: mp-1225044
Processing material: mp-7788
Processing material: mp-2531
Processing material: mp-1006352
Processing material: mp-1190062
Processing material: mp-1190642
Processing material: mp-3680
Processing material: mp-567623
Processing material: mp-1207017
Processing material: mp-877
Processing material: mp-1078738
Processing material: mp-1191019
Processing material: mp-19256
Processing material: mp-622190
Processing material: mp-1188219
Processing material: mp-862615
Processing material: mp-510085
Processing material: mp-861628
Processing material: mp-1212925
Processing material: mp-1205952
Processing material: mp-14503
Processing material: mp-1213162
Processing material: mp-11437
Processing material: mp-1184192
Processing material: mp-1212909
Processing material: mp-28147
Processing material: mp-1199544
Processing material: mp-567517
Processing material: mp-1213202
Processing material: mp-1225819
Processing material: mp-1213426
Processing material: mp-510595
Processing material: mp-1213285
Processing material: mp-1189039
Processing material: mp-570864
Processing material: mp-31385
Processing material: mp-1226597
Processing material: mp-1201665
Processing material: mp-1213336
Processing material: mp-1200950
Processing material: mp-1189721
Processing material: mp-1079725
Processing material: mp-1206002
Processing material: mp-1206054
Processing material: mp-1213258
Processing material: mp-1205843
Processing material: mp-1078859
Processing material: mp-1190197
Processing material: mp-1106187
Processing material: mp-1225649
Processing material: mp-3769
Processing material: mp-1072598
Processing material: mp-537
Processing material: mp-411
Processing material: mp-1197872
Processing material: mp-1195740
Processing material: mp-1213100
Processing material: mp-8475
Processing material: mp-1095692
Processing material: mp-1102621
Processing material: mp-11851
Processing material: mp-19063
Processing material: mp-19240
Processing material: mp-474
Processing material: mp-569783
Processing material: mp-3045
Processing material: mp-1200519
Processing material: mp-1018064
Processing material: mp-2017657
Processing material: mp-1225543
Processing material: mp-1189735
Processing material: mp-11433
Processing material: mp-11855
Processing material: mp-19345
Processing material: mp-1190787
Processing material: mp-19217
Processing material: mp-1051
Processing material: mp-1025001
Processing material: mp-853
Processing material: mp-18983
Processing material: mp-867918
Processing material: mp-863735
Processing material: mp-862931
Processing material: mp-4743
Processing material: mp-20918
Processing material: mp-1184302
Processing material: mp-19205
Processing material: mp-5848
Processing material: mp-1078223
Processing material: mp-1206337
Processing material: mp-1104923
Processing material: mp-569200
Processing material: mp-504740
Processing material: mp-13485
Processing material: mp-30022
Processing material: mp-20867
Processing material: mp-20151
Processing material: mp-1103889
Processing material: mp-1103552
Processing material: mp-20595
Processing material: mp-1225559
Processing material: mp-1069444
Processing material: mp-638841
Processing material: mp-4050
Processing material: mp-2646920
Processing material: mp-20976
Processing material: mp-20578
Processing material: mp-540879
Processing material: mp-1189309
Processing material: mp-1199986
Processing material: mp-1080767
Processing material: mp-1070314
Processing material: mp-22609
Processing material: mp-19774
Processing material: mp-627640
Processing material: mp-570456
Processing material: mp-1206612
Processing material: mp-20038
Processing material: mp-672294
Processing material: mp-10442
Processing material: mp-3557
Processing material: mp-9418
Processing material: mp-505769
Processing material: mp-3412
Processing material: mp-1069357
Processing material: mp-1193960
Processing material: mp-645690
Processing material: mp-541052
Processing material: mp-1193984
Processing material: mp-20890
Processing material: mp-20095
Processing material: mp-20856
Processing material: mp-582357
Processing material: mp-1197356
Processing material: mp-1203832
Processing material: mp-1198816
Processing material: mp-1225526
Processing material: mp-1226022
Processing material: mp-1181942
Processing material: mp-945228
Processing material: mp-1104392
Processing material: mp-1103807
Processing material: mp-1068398
Processing material: mp-570058
Processing material: mp-626981
Processing material: mp-21417
Processing material: mp-1193160
Processing material: mp-1193885
Processing material: mp-556079
Processing material: mp-1192981
Processing material: mp-21952
Processing material: mp-608777
Processing material: mp-606777
Processing material: mp-1105168
Processing material: mp-645692
Processing material: mp-1206394
Processing material: mp-1006146
Processing material: mp-1212857
Processing material: mp-643738
Processing material: mp-1206478
Processing material: mp-582736
Processing material: mp-3627
Processing material: mp-1019733
Processing material: mp-580731
Processing material: mp-21672
Processing material: mp-6992
Processing material: mp-3333
Processing material: mp-3758
Processing material: mp-570308
Processing material: mp-1188524
Processing material: mp-21386
Processing material: mp-1213012
Processing material: mp-20802
Processing material: mp-581754
Processing material: mp-8582
Processing material: mp-22788
Processing material: mp-2929310
Processing material: mp-20855
Processing material: mp-504900
Processing material: mp-1199825
Processing material: mp-22653
Processing material: mp-21229
Processing material: mp-21849
Processing material: mp-4768
Processing material: mp-20115
Processing material: mp-1076931
Processing material: mp-21383
Processing material: mp-581736
Processing material: mp-1079406
Processing material: mp-1193787
Processing material: mp-1017559
Processing material: mp-1225416
Processing material: mp-19808
Processing material: mp-1069383
Processing material: mp-1069042
Processing material: mp-22133
Processing material: mp-1193786
Processing material: mp-1227931
Processing material: mp-1225828
Processing material: mp-1190659
Processing material: mp-1225966
Processing material: mp-542930
Processing material: mp-645591
Processing material: mp-1225527
Processing material: mp-1184199
Processing material: mp-1226033
Processing material: mp-1212596
Processing material: mp-570529
Processing material: mp-582389
Processing material: mp-1225365
Processing material: mp-1193935
Processing material: mp-1183962
Processing material: mp-1183888
Processing material: mp-1191681
Processing material: mp-1103514
Processing material: mp-1192020
Processing material: mp-1225340
Processing material: mp-1079126
Processing material: mp-1225364
Processing material: mp-1095642
Processing material: mp-1102390
Processing material: mp-1018691
Processing material: mp-1205815
Processing material: mp-634945
Processing material: mp-558258
Processing material: mp-1095519
Processing material: mp-1184056
Processing material: mp-1095160
Processing material: mp-1095035
Processing material: mp-1184025
Processing material: mp-1183884
Processing material: mp-1212961
Processing material: mp-1213102
Processing material: mp-1225511
Processing material: mp-1213320
Processing material: mp-1017564
Processing material: mp-1225298
Processing material: mp-613052
Processing material: mp-1225319
Processing material: mp-569689
Processing material: mp-1191889
Processing material: mp-542297
Processing material: mp-1199270
Processing material: mp-2035614
Processing material: mp-1102477
Processing material: mp-1191372
Processing material: mp-1225441
Processing material: mp-1202253
Processing material: mp-22765
Processing material: mp-1105156
Processing material: mp-1191010
Processing material: mp-554546
Processing material: mp-22504
Processing material: mp-1213070
Processing material: mp-31293
Processing material: mp-2759501
Processing material: mp-632490
Processing material: mp-1191288
Processing material: mp-1025200
Processing material: mp-1184281
Processing material: mp-1184263
Processing material: mp-1184473
Processing material: mp-1184322
Processing material: mp-19815
Processing material: mp-1104145
Processing material: mp-1184310
Processing material: mp-1095470
Processing material: mp-1184464
Processing material: mp-1078980
Processing material: mp-1189098
Processing material: mp-1205409
Processing material: mp-612175
Processing material: mp-559134
Processing material: mp-672322
Processing material: mp-505346
Processing material: mp-1193402
Processing material: mp-636287
Processing material: mp-1189104
Processing material: mp-1200526
Processing material: mp-1095238
Processing material: mp-1188263
Processing material: mp-1201532
Processing material: mp-1199980
Processing material: mp-1080739
Processing material: mp-1199837
Processing material: mp-1193516
Processing material: mp-621667
Processing material: mp-1019729
Processing material: mp-1104668
Processing material: mp-1189094
Processing material: mp-1104457
Processing material: mp-1102298
Processing material: mp-1225434
Processing material: mp-672286
Processing material: mp-1184542
Processing material: mp-1194348
Processing material: mp-1189484
Processing material: mp-1069296
Processing material: mp-1193614
Processing material: mp-1188621
Processing material: mp-2745640
Processing material: mp-1105092
Processing material: mp-1105286
Processing material: mp-1104698
Processing material: mp-1189512
Processing material: mp-1199220
Processing material: mp-1103738
Processing material: mp-684111
Processing material: mp-1213142
Processing material: mp-1199325
Processing material: mp-1212891
Processing material: mp-2748966
Processing material: mp-867318
Processing material: mp-20995
Processing material: mp-1205141
Processing material: mp-1078184
Processing material: mp-1104641
Processing material: mp-559031
Processing material: mp-28546
Processing material: mp-1191507
Processing material: mp-623108
Processing material: mp-1227723
Processing material: mp-1189832
Processing material: mp-1106024
Processing material: mp-1188517
Processing material: mp-1189588
Processing material: mp-1188934
Processing material: mp-1212818
Processing material: mp-1104610
Processing material: mp-1104413
Processing material: mp-1196458
Processing material: mp-1105949
Processing material: mp-1190061
Processing material: mp-1188090
Processing material: mp-553893
Processing material: mp-1229174
Processing material: mp-1198785
Processing material: mp-1190780
Processing material: mp-1106137
Processing material: mp-1196262
Processing material: mp-1192827
Processing material: mp-665747
Processing material: mp-1436
Processing material: mp-542568
Processing material: mp-21330
Processing material: mp-23378
Processing material: mp-20482
Processing material: mp-22707
Processing material: mp-1189619
Processing material: mp-1212749
Processing material: mp-20111
Processing material: mp-1190090
Processing material: mp-1019732
Processing material: mp-1225214
Processing material: mp-1025136
Processing material: mp-1189717
Processing material: mp-582799
Processing material: mp-21407
Processing material: mp-1103193
Processing material: mp-1202507
Processing material: mp-1206175
Processing material: mp-1225173
Processing material: mp-1101926
Processing material: mp-1078796
Processing material: mp-19729
Processing material: mp-13576
Processing material: mp-1025079
Processing material: mp-20732
Processing material: mp-1078589
Processing material: mp-1071698
Processing material: mp-510098
Processing material: mp-21127
Processing material: mp-8109
Processing material: mp-1191457
Processing material: mp-20874
Processing material: mp-1019734
Processing material: mp-1103637
Processing material: mp-1194109
Processing material: mp-1077479
Processing material: mp-1018695
Processing material: mp-23311
Processing material: mp-1205810
Processing material: mp-1103990
Processing material: mp-1212716
Processing material: mp-554518
Processing material: mp-580236
Processing material: mp-583684
Processing material: mp-30487
Processing material: mp-11084
Processing material: mp-866297
Processing material: mp-1225324
Processing material: mp-1102923
Processing material: mp-864796
Processing material: mp-1018696
Processing material: mp-11090
Processing material: mp-1095346
Processing material: mp-1018697
Processing material: mp-22887
Processing material: mp-569895
Processing material: mp-556382
Processing material: mp-583224
Processing material: mp-10690
Processing material: mp-22586
Processing material: mp-1087547
Processing material: mp-1071732
Processing material: mp-1225157
Processing material: mp-1079564
Processing material: mp-1225153
Processing material: mp-2066
Processing material: mp-22277
Processing material: mp-1198564
Processing material: mp-21373
Processing material: mp-22292
Processing material: mp-1184376
Processing material: mp-504731
Processing material: mp-19908
Processing material: mp-1079244
Processing material: mp-21168
Processing material: mp-1225128
Processing material: mp-22545
Processing material: mp-1225152
Processing material: mp-1102481
Processing material: mp-1078429
Processing material: mp-21884
Processing material: mp-1212681
Processing material: mp-1225205
Processing material: mp-1101845
Processing material: mp-1102975
Processing material: mp-1225124
Processing material: mp-1102160
Processing material: mp-20712
Processing material: mp-1068715
Processing material: mp-1068422
Processing material: mp-19763
Processing material: mp-1069658
Processing material: mp-1191379
Processing material: mp-9293
Processing material: mp-20615
Processing material: mp-1188312
Processing material: mp-19798
Processing material: mp-581575
Processing material: mp-1102496
Processing material: mp-644246
Processing material: mp-1070860
Processing material: mp-1212722
Processing material: mp-753781
Processing material: mp-1190059
Processing material: mp-11375
Processing material: mp-20719
Processing material: mp-1080132
Processing material: mp-1018698
Processing material: mp-1102093
Processing material: mp-1058490
Processing material: mp-1524257
Processing material: mp-636316
Processing material: mp-639496
Processing material: mp-19997
Processing material: mp-1191370
Processing material: mp-21258
Processing material: mp-21487
Processing material: mp-1184378
Processing material: mp-1102671
Processing material: mp-1095660
Processing material: mp-1095333
Processing material: mp-1103002
Processing material: mp-22008
Processing material: mp-19901
Processing material: mp-1184408
Processing material: mp-1006242
Processing material: mp-22322
Processing material: mp-21051
Processing material: mp-1077596
Processing material: mp-1101788
Processing material: mp-995
Processing material: mp-1101792
Processing material: mp-13223
Processing material: mp-1212683
Processing material: mp-1184290
Processing material: mp-1225137
Processing material: mp-867152
Processing material: mp-643756
Processing material: mp-861928
Processing material: mp-1103008
Processing material: mp-1102076
Processing material: mp-1102652
Processing material: mp-1102145
Processing material: mp-1212743
Processing material: mp-1184347
Processing material: mp-1184328
Processing material: mp-1095254
Processing material: mp-20340
Processing material: mp-1201130
Processing material: mp-2751996
Processing material: mp-21593
Processing material: mp-1078341
Processing material: mp-1103796
Processing material: mp-22311
Processing material: mp-16838
Processing material: mp-582367
Processing material: mp-5887
Processing material: mp-1080556
Processing material: mp-974769
Processing material: mp-1206697
Processing material: mp-1213363
Processing material: mp-21394
Processing material: mp-20300
Processing material: mp-1079534
Processing material: mp-1195922
Processing material: mp-22783
Processing material: mp-1095517
Processing material: mp-3219
Processing material: mp-20706
Processing material: mp-1225129
Processing material: mp-20217
Processing material: mp-20742
Processing material: mp-676409
Processing material: mp-20394
Processing material: mp-20309
Processing material: mp-1018147
Processing material: mp-1854
Processing material: mp-20961
Processing material: mp-22797
Processing material: mp-623827
Processing material: mp-20587
Processing material: mp-616175
Processing material: mp-611062
Processing material: mp-22475
Processing material: mp-510637
Processing material: mp-1101822
Processing material: mp-20923
Processing material: mp-21009
Processing material: mp-755177
Processing material: mp-769334
Processing material: mp-21279
Processing material: mp-1072248
Processing material: mp-1025553
Processing material: mp-1190872
Processing material: mp-1212688
Processing material: mp-1069707
Processing material: mp-1225162
Processing material: mp-1068807
Processing material: mp-1102440
Processing material: mp-1103258
Processing material: mp-1206050
Processing material: mp-567833
Processing material: mp-22742
Processing material: mp-20387
Processing material: mp-1195875
Processing material: mp-867138
Processing material: mp-21580
Processing material: mp-1018701
Processing material: mp-19794
Processing material: mp-22031
Processing material: mp-608517
Processing material: mp-505434
Processing material: mp-542583
Processing material: mp-1225161
Processing material: mp-1079111
Processing material: mp-30630
Processing material: mp-3891
Processing material: mp-1064843
Processing material: mp-2030750
Processing material: mp-1261
Processing material: mp-1191536
Processing material: mp-681
Processing material: mp-2436
Processing material: mp-1102568
Processing material: mp-1225196
Processing material: mp-9873
Processing material: mp-1102897
Processing material: mp-21234
Processing material: mp-11040
Processing material: mp-1212698
Processing material: mp-1189927
Processing material: mp-9913
Processing material: mp-624243
Processing material: mp-510450
Processing material: mp-601842
Processing material: mp-1212706
Processing material: mp-19225
Processing material: mp-427
Processing material: mp-21016
Processing material: mp-1007881
Processing material: mp-19097
Processing material: mp-1103093
Processing material: mp-22880
Processing material: mp-23232
Processing material: mp-18969
Processing material: mp-571096
Processing material: mp-583463
Processing material: mp-1225059
Processing material: mp-540828
Processing material: mp-2090
Processing material: mp-22300
Processing material: mp-1095664
Processing material: mp-510281
Processing material: mp-556911
Processing material: mp-22398
Processing material: mp-1213622
Processing material: mp-22478
Processing material: mp-865191
Processing material: mp-1009077
Processing material: mp-605437
Processing material: mp-571122
Processing material: mp-1184336
Processing material: mp-2213
Processing material: mp-1418
Processing material: mp-1225604
Processing material: mp-13463
Processing material: mp-1224947
Processing material: mp-1005
Processing material: mp-759361
Processing material: mp-540760
Processing material: mp-753395
Processing material: mp-21845
Processing material: mp-2260
Processing material: mp-649
Processing material: mp-1918
Processing material: mp-1184368
Processing material: mp-649334
Processing material: mp-19254
Processing material: mp-20714
Processing material: mp-971669
Processing material: mp-674490
Processing material: mp-20311
Processing material: mp-607953
Processing material: mp-28189
Processing material: mp-3464
Processing material: mp-862790
Processing material: mp-21260
Processing material: mp-1178212
Processing material: mp-1018062
Processing material: mp-1184276
Processing material: mp-561036
Processing material: mp-540998
Processing material: mp-540997
Processing material: mp-19421
Processing material: mp-1193255
Processing material: mp-765466
Processing material: mp-29300
Processing material: mp-580999
Processing material: mp-35236
Processing material: mp-1078299
Processing material: mp-23069
Processing material: mp-649683
Processing material: mp-541930
Processing material: mp-22265
Processing material: mp-505009
Processing material: mp-601848
Processing material: mp-1213182
Processing material: mp-21925
Processing material: mp-540767
Processing material: mp-555589
Processing material: mp-505098
Processing material: mp-1915
Processing material: mp-19333
Processing material: mp-1207117
Processing material: mp-22421
Processing material: mp-35596
Processing material: mp-571370
Processing material: mp-19770
Processing material: mp-778
Processing material: mp-639789
Processing material: mp-21437
Processing material: mp-20868
Processing material: mp-559713
Processing material: mp-19346
Processing material: mp-561343
Processing material: mp-22223
Processing material: mp-601820
Processing material: mp-1225227
Processing material: mp-20344
Processing material: mp-510619
Processing material: mp-1804
Processing material: mp-1224799
Processing material: mp-18708
Processing material: mp-1213069
Processing material: mp-16334
Processing material: mp-579496
Processing material: mp-1184364
Processing material: mp-580234
Processing material: mp-2199
Processing material: mp-28519
Processing material: mp-1121
Processing material: mp-1224863
Processing material: mp-19870
Processing material: mp-30551
Processing material: mp-865247
Processing material: mp-865170
Processing material: mp-1184055
Processing material: mp-1224791
Processing material: mp-815
Processing material: mp-866037
Processing material: mp-1224834
Processing material: mp-973553
Processing material: mp-1104719
Processing material: mp-568693
Processing material: mp-1192913
Processing material: mp-1104806
Processing material: mp-1225036
Processing material: mp-1224928
Processing material: mp-754689
Processing material: mp-8651
Processing material: mp-1080176
Processing material: mp-1106191
Processing material: mp-1204314
Processing material: mp-1079837
Processing material: mp-1095164
Processing material: mp-645286
Processing material: mp-610530
Processing material: mp-1181496
Processing material: mp-542988
Processing material: mp-542985
Processing material: mp-2038625
Processing material: mp-20707
Processing material: mp-20677
Processing material: mp-637965
Processing material: mp-1212761
Processing material: mp-542986
Processing material: mp-1102792
Processing material: mp-22181
Processing material: mp-22187
Processing material: mp-24073
Processing material: mp-510661
Processing material: mp-20837
Processing material: mp-1203247
Processing material: mp-1204079
Processing material: mp-582433
Processing material: mp-21473
Processing material: mp-579125
Processing material: mp-672215
Processing material: mp-1105253
Processing material: mp-727793
Processing material: mp-21287
Processing material: mp-22615
Processing material: mp-20956
Processing material: mp-21408
Processing material: mp-19753
Processing material: mp-21240
Processing material: mp-569302
Processing material: mp-21869
Processing material: mp-1204825
Processing material: mp-646008
Processing material: mp-1192974
Processing material: mp-1213266
Processing material: mp-569472
Processing material: mp-1213364
Processing material: mp-680207
Processing material: mp-866782
Processing material: mp-1213497
Processing material: mp-3572
Processing material: mp-582406
Processing material: mp-1184381
Processing material: mp-1184371
Processing material: mp-1184415
Processing material: mp-637222
Processing material: mp-1190055
Processing material: mp-1071506
Processing material: mp-557726
Processing material: mp-28702
Processing material: mp-28366
Processing material: mp-1202304
Processing material: mp-1070662
Processing material: mp-505435
Processing material: mp-1224869
Processing material: mp-1189998
Processing material: mp-28522
Processing material: mp-28638
Processing material: mp-29394
Processing material: mp-8301
Processing material: mp-28724
Processing material: mp-1184362
Processing material: mp-1184514
Processing material: mp-603326
Processing material: mp-1206201
Processing material: mp-1078248
Processing material: mp-4860
Processing material: mp-1184422
Processing material: mp-1198327
Processing material: mp-1196805
Processing material: mp-567844
Processing material: mp-581229
Processing material: mp-1206452
Processing material: mp-561584
Processing material: mp-1190245
Processing material: mp-1195809
Processing material: mp-756040
Processing material: mp-638079
Processing material: mp-1224988
Processing material: mp-639160
Processing material: mp-1076993
Processing material: mp-20654
Processing material: mp-1184354
Processing material: mp-866029
Processing material: mp-865436
Processing material: mp-1184393
Processing material: mp-1184333
Processing material: mp-19945
Processing material: mp-864748
Processing material: mp-865316
Processing material: mp-636619
Processing material: mp-12039
Processing material: mp-642754
Processing material: mp-582797
Processing material: mp-28279
Processing material: mp-1196603
Processing material: mp-1206945
Processing material: mp-669713
Processing material: mp-1212642
Processing material: mp-1232425
Processing material: mp-1184370
Processing material: mp-504886
Processing material: mp-772787
Processing material: mp-866052
Processing material: mp-1198764
Processing material: mp-864979
Processing material: mp-15922
Processing material: mp-505216
Processing material: mp-1184387
Processing material: mp-669509
Processing material: mp-4805
Processing material: mp-1224680
Processing material: mp-2047556
Processing material: mp-1213448
Processing material: mp-1213579
Processing material: mp-13973
Processing material: mp-13775
Processing material: mp-542831
Processing material: mp-17064
Processing material: mp-561122
Processing material: mp-542515
Processing material: mp-16035
Processing material: mp-17583
Processing material: mp-5302
Processing material: mp-557626
Processing material: mp-1184366
Processing material: mp-1184448
Processing material: mp-1184390
Processing material: mp-1202826
Processing material: mp-565757
Processing material: mp-1224733
Processing material: mp-1184388
Processing material: mp-866217
Processing material: mp-580327
Processing material: mp-621619
Processing material: mp-1191116
Processing material: mp-28826
Processing material: mp-1192140
Processing material: mp-1184417
Processing material: mp-14133
Processing material: mp-637182
Processing material: mp-580539
Processing material: mp-10559
Processing material: mp-1190670
Processing material: mp-1212672
Processing material: mp-28133
Processing material: mp-605854
Processing material: mp-1202982
Processing material: mp-1189617
Processing material: mp-1985644
Processing material: mp-2921
Processing material: mp-3594
Processing material: mp-1197897
Processing material: mp-1202465
Processing material: mp-1197955
Processing material: mp-1184423
Processing material: mp-1184479
Processing material: mp-637378
Processing material: mp-1200532
Processing material: mp-1184496
Processing material: mp-1204194
Processing material: mp-1192940
Processing material: mp-567291
Processing material: mp-647029
Processing material: mp-1106170
Processing material: mp-30137
Processing material: mp-17237
Processing material: mp-1188599
Processing material: mp-505046
Processing material: mp-1191117
Processing material: mp-1224776
Processing material: mp-1193201
Processing material: mp-1212738
Processing material: mp-1207074
Processing material: mp-769809
Processing material: mp-1207135
Processing material: mp-1225167
Processing material: mp-1203227
Processing material: mp-866687
Processing material: mp-1192794
Processing material: mp-1191587
Processing material: mp-1213042
Processing material: mp-866397
Processing material: mp-20831
Processing material: mp-1189017
Processing material: mp-866789
Processing material: mp-581831
Processing material: mp-1198083
Processing material: mp-1199296
Processing material: mp-1106250
Processing material: mp-1199486
Processing material: mp-752459
Processing material: mp-621024
Processing material: mp-637600
Processing material: mp-1205464
Processing material: mp-1192643
Processing material: mp-753421
Processing material: mp-1224996
Processing material: mp-542779
Processing material: mp-19783
Processing material: mp-9341
Processing material: mp-19923
Processing material: mp-865411
Processing material: mp-1076933
Processing material: mp-1212604
Processing material: mp-22505
Processing material: mp-1095605
Processing material: mp-22711
Processing material: mp-1080612
Processing material: mp-1077056
Processing material: mp-1101090
Processing material: mp-1224779
Processing material: mp-20058
Processing material: mp-1212705
Processing material: mp-1224619
Processing material: mp-510374
Processing material: mp-776200
Processing material: mp-1101897
Processing material: mp-635426
Processing material: mp-1063174
Processing material: mp-1077270
Processing material: mp-1188331
Processing material: mp-22117
Processing material: mp-22335
Processing material: mp-1190272
Processing material: mp-1191685
Processing material: mp-1192291
Processing material: mp-22266
Processing material: mp-1192012
Processing material: mp-1194303
Processing material: mp-19840
Processing material: mp-1194291
Processing material: mp-614481
Processing material: mp-1076916
Processing material: mp-620271
Processing material: mp-27182
Processing material: mp-29797
Processing material: mp-567572
Processing material: mp-1031
Processing material: mp-20965
Processing material: mp-22138
Processing material: mp-1184477
Processing material: mp-866167
Processing material: mp-865745
Processing material: mp-623988
Processing material: mp-23265
Processing material: mp-23050
Processing material: mp-21252
Processing material: mp-13268
Processing material: mp-1077071
Processing material: mp-1198946
Processing material: mp-21230
Processing material: mp-20345
Processing material: mp-1018146
Processing material: mp-1077133
Processing material: mp-1069379
Processing material: mp-1190957
Processing material: mp-18331
Processing material: mp-22244
Processing material: mp-1077933
Processing material: mp-1072041
Processing material: mp-1025013
Processing material: mp-636253
Processing material: mp-20188
Processing material: mp-2052115
Processing material: mp-1018705
Processing material: mp-20502
Processing material: mp-607182
Processing material: mp-1224750
Processing material: mp-1184518
Processing material: mp-1224689
Processing material: mp-1184499
Processing material: mp-1184790
Processing material: mp-972965
Processing material: mp-652036
Processing material: mp-866656
Processing material: mp-1018176
Processing material: mp-20353
Processing material: mp-19773
Processing material: mp-648086
Processing material: mp-865386
Processing material: mp-1212456
Processing material: mp-1104851
Processing material: mp-1207031
Processing material: mp-863249
Processing material: mp-19918
Processing material: mp-19714
Processing material: mp-24092
Processing material: mp-505686
Processing material: mp-625147
Processing material: mp-1207092
Processing material: mp-1212387
Processing material: mp-11422
Processing material: mp-1078842
Processing material: mp-1224644
Processing material: mp-1184535
Processing material: mp-752520
Processing material: mp-19819
Processing material: mp-1212862
Processing material: mp-1191355
Processing material: mp-20444
Processing material: mp-20258
Processing material: mp-1206181
Processing material: mp-1080496
Processing material: mp-1065288
Processing material: mp-1077293
Processing material: mp-19745
Processing material: mp-1206797
Processing material: mp-1212640
Processing material: mp-20224
Processing material: mp-624070
Processing material: mp-22656
Processing material: mp-1072097
Processing material: mp-623043
Processing material: mp-510400
Processing material: mp-1184543
Processing material: mp-1184522
Processing material: mp-1184485
Processing material: mp-1184510
Processing material: mp-2636
Processing material: mp-21049
Processing material: mp-1184490
Processing material: mp-580154
Processing material: mp-865590
Processing material: mp-574004
Processing material: mp-1184495
Processing material: mp-1101056
Processing material: mp-977381
Processing material: mp-20332
Processing material: mp-22028
Processing material: mp-866059
Processing material: mp-1206951
Processing material: mp-865883
Processing material: mp-703682
Processing material: mp-505546
Processing material: mp-510575
Processing material: mp-20553
Processing material: mp-940
Processing material: mp-19721
Processing material: mp-542632
Processing material: mp-543019
Processing material: mp-1101986
Processing material: mp-21305
Processing material: mp-1206977
Processing material: mp-567422
Processing material: mp-1065668
Processing material: mp-1079303
Processing material: mp-505604
Processing material: mp-1212834
Processing material: mp-569197
Processing material: mp-753721
Processing material: mp-510184
Processing material: mp-510401
Processing material: mp-680742
Processing material: mp-558487
Processing material: mp-1103324
Processing material: mp-1077329
Processing material: mp-16340
Processing material: mp-37014
Processing material: mp-1184525
Processing material: mp-1184505
Processing material: mp-1076927
Processing material: mp-20415
Processing material: mp-11427
Processing material: mp-21427
Processing material: mp-11428
Processing material: mp-1422
Processing material: mp-20272
Processing material: mp-17500
Processing material: mp-1191130
Processing material: mp-1742
Processing material: mp-20084
Processing material: mp-1191219
Processing material: mp-20182
Processing material: mp-646926
Processing material: mp-582826
Processing material: mp-510402
Processing material: mp-1212521
Processing material: mp-3799
Processing material: mp-556135
Processing material: mp-510403
Processing material: mp-21061
Processing material: mp-11839
Processing material: mp-2754054
Processing material: mp-4796
Processing material: mp-5690
Processing material: mp-510490
Processing material: mp-22480
Processing material: mp-510404
Processing material: mp-1018707
Processing material: mp-601371
Processing material: mp-21192
Processing material: mp-1079677
Processing material: mp-622508
Processing material: mp-1069477
Processing material: mp-1190689
Processing material: mp-1079690
Processing material: mp-1224641
Processing material: mp-1071675
Processing material: mp-19875
Processing material: mp-1071567
Processing material: mp-20514
Processing material: mp-15059
Processing material: mp-1206580
Processing material: mp-1103503
Processing material: mp-1079739
Processing material: mp-1079214
Processing material: mp-770998
Processing material: mp-4875
Processing material: mp-1184509
Processing material: mp-1076964
Processing material: mp-1224571
Processing material: mp-1184613
Processing material: mp-20869
Processing material: mp-19966
Processing material: mp-20503
Processing material: mp-30692
Processing material: mp-569393
Processing material: mp-1065609
Processing material: mp-1018708
Processing material: mp-1184532
Processing material: mp-1224527
Processing material: mp-1191160
Processing material: mp-541177
Processing material: mp-22024
Processing material: mp-1212572
Processing material: mp-1224920
Processing material: mp-1224599
Processing material: mp-2497
Processing material: mp-1076988
Processing material: mp-1077244
Processing material: mp-13159
Processing material: mp-1018711
Processing material: mp-1080178
Processing material: mp-1103440
Processing material: mp-1224549
Processing material: mp-530695
Processing material: mp-1212520
Processing material: mp-1184742
Processing material: mp-1071459
Processing material: mp-1104561
Processing material: mp-1224395
Processing material: mp-1104438
Processing material: mp-22018
Processing material: mp-753669
Processing material: mp-1224484
Processing material: mp-1224489
Processing material: mp-1194313
Processing material: mp-1224327
Processing material: mp-1223870
Processing material: mp-18581
Processing material: mp-1184586
Processing material: mp-866088
Processing material: mp-2754
Processing material: mp-1223824
Processing material: mp-864890
Processing material: mp-1184678
Processing material: mp-1212597
Processing material: mp-1212656
Processing material: mp-637052
Processing material: mp-1188987
Processing material: mp-1212187
Processing material: mp-1105833
Processing material: mp-1194083
Processing material: mp-29068
Processing material: mp-22337
Processing material: mp-1212462
Processing material: mp-1224498
Processing material: mp-1192795
Processing material: mp-640158
Processing material: mp-1206135
Processing material: mp-623814
Processing material: mp-5221
Processing material: mp-1224642
Processing material: mp-2027
Processing material: mp-20730
Processing material: mp-1102310
Processing material: mp-1103227
Processing material: mp-333
Processing material: mp-1212428
Processing material: mp-22191
Processing material: mp-1095158
Processing material: mp-3576
Processing material: mp-865019
Processing material: mp-864715
Processing material: mp-11449
Processing material: mp-1224495
Processing material: mp-1205992
Processing material: mp-1197835
Processing material: mp-1080769
Processing material: mp-1197660
Processing material: mp-1212189
Processing material: mp-865091
Processing material: mp-20192
Processing material: mp-1203090
Processing material: mp-865165
Processing material: mp-12890
Processing material: mp-1224240
Processing material: mp-1224394
Processing material: mp-557938
Processing material: mp-514
Processing material: mp-1184647
Processing material: mp-15639
Processing material: mp-1106367
Processing material: mp-1199212
Processing material: mp-31179
Processing material: mp-1224088
Processing material: mp-1105128
Processing material: mp-9421
Processing material: mp-571500
Processing material: mp-1193628
Processing material: mp-3191
Processing material: mp-1104739
Processing material: mp-1103844
Processing material: mp-5666
Processing material: mp-1104742
Processing material: mp-5796
Processing material: mp-20630
Processing material: mp-1199972
Processing material: mp-1212501
Processing material: mp-1212429
Processing material: mp-1212423
Processing material: mp-1212509
Processing material: mp-1640
Processing material: mp-3706
Processing material: mp-1023
Processing material: mp-1205546
Processing material: mp-1189461
Processing material: mp-977345
Processing material: mp-8499
Processing material: mp-1191181
Processing material: mp-14698
Processing material: mp-571245
Processing material: mp-1206810
Processing material: mp-20686
Processing material: mp-1192228
Processing material: mp-754918
Processing material: mp-505335
Processing material: mp-1190300
Processing material: mp-1184689
Processing material: mp-510084
Processing material: mp-1184618
Processing material: mp-31046
Processing material: mp-1188476
Processing material: mp-973395
Processing material: mp-1212342
Processing material: mp-1212246
Processing material: mp-29937
Processing material: mp-31465
Processing material: mp-1224618
Processing material: mp-1212341
Processing material: mp-510594
Processing material: mp-1212503
Processing material: mp-640383
Processing material: mp-1199361
Processing material: mp-976064
Processing material: mp-30328
Processing material: mp-1212180
Processing material: mp-23047
Processing material: mp-1079239
Processing material: mp-753766
Processing material: mp-567566
Processing material: mp-1188549
Processing material: mp-3710
Processing material: mp-11301
Processing material: mp-1077332
Processing material: mp-2396
Processing material: mp-30558
Processing material: mp-1224463
Processing material: mp-1199038
Processing material: mp-1212707
Processing material: mp-1212117
Processing material: mp-20906
Processing material: mp-1095599
Processing material: mp-756834
Processing material: mp-19076
Processing material: mp-1223785
Processing material: mp-1926
Processing material: mp-30634
Processing material: mp-1200877
Processing material: mp-1212115
Processing material: mp-1018052
Processing material: mp-1223978
Processing material: mp-1018073
Processing material: mp-1105905
Processing material: mp-1212057
Processing material: mp-504570
Processing material: mp-28696
Processing material: mp-1193931
Processing material: mp-541997
Processing material: mp-554144
Processing material: mp-1003764
Processing material: mp-540914
Processing material: mp-620069
Processing material: mp-27643
Processing material: mp-553896
Processing material: mp-560449
Processing material: mp-1111078
Processing material: mp-758970
Processing material: mp-1205449
Processing material: mp-18761
Processing material: mp-555403
Processing material: mp-1211715
Processing material: mp-553960
Processing material: mp-8429
Processing material: mp-561377
Processing material: mp-29637
Processing material: mp-1211757
Processing material: mp-12040
Processing material: mp-8447
Processing material: mp-19141
Processing material: mp-18244
Processing material: mp-18481
Processing material: mp-18246
Processing material: mp-1204678
Processing material: mp-761779
Processing material: mp-14889
Processing material: mp-1106094
Processing material: mp-504644
Processing material: mp-7329
Processing material: mp-22395
Processing material: mp-2759499
Processing material: mp-1029444
Processing material: mp-19335
Processing material: mp-1189266
Processing material: mp-12178
Processing material: mp-1104473
Processing material: mp-1103869
Processing material: mp-2764005
Processing material: mp-556365
Processing material: mp-5053
Processing material: mp-20076
Processing material: mp-1079775
Processing material: mp-4026
Processing material: mp-27450
Processing material: mp-1211760
Processing material: mp-29614
Processing material: mp-1211862
Processing material: mp-1018137
Processing material: mp-976802
Processing material: mp-867934
Processing material: mp-22035
Processing material: mp-1211520
Processing material: mp-28435
Processing material: mp-555631
Processing material: mp-559464
Processing material: mp-1211663
Processing material: mp-1211415
Processing material: mp-757021
Processing material: mp-15784
Processing material: mp-20420
Processing material: mp-763541
Processing material: mp-1016190
Processing material: mp-757832
Processing material: mp-1223635
Processing material: mp-29636
Processing material: mp-567530
Processing material: mp-1205353
Processing material: mp-558116
Processing material: mp-554900
Processing material: mp-20422
Processing material: mp-27366
Processing material: mp-560976
Processing material: mp-1211682
Processing material: mp-1185015
Processing material: mp-2035026
Processing material: mp-7984
Processing material: mp-28758
Processing material: mp-1211482
Processing material: mp-1080622
Processing material: mp-8013
Processing material: mp-14005
Processing material: mp-1211178
Processing material: mp-976257
Processing material: mp-21639
Processing material: mp-504555
Processing material: mp-4126
Processing material: mp-973666
Processing material: mp-1205604
Processing material: mp-557257
Processing material: mp-560997
Processing material: mp-1211264
Processing material: mp-1200867
Processing material: mp-977054
Processing material: mp-1194906
Processing material: mp-1079347
Processing material: mp-1106274
Processing material: mp-19939
Processing material: mp-4402
Processing material: mp-5526
Processing material: mp-9416
Processing material: mp-22470
Processing material: mp-30073
Processing material: mp-22760
Processing material: mp-5069
Processing material: mp-9210
Processing material: mp-1226984
Processing material: mp-1211847
Processing material: mp-570039
Processing material: mp-29870
Processing material: mp-560553
Processing material: mp-752629
Processing material: mp-12079
Processing material: mp-1238839
Processing material: mp-35276
Processing material: mp-1212045
Processing material: mp-1095186
Processing material: mp-1223931
Processing material: mp-12414
Processing material: mp-757494
Processing material: mp-690511
Processing material: mp-1213565
Processing material: mp-775539
Processing material: mp-14679
Processing material: mp-558482
Processing material: mp-1104293
Processing material: mp-1212039
Processing material: mp-1212138
Processing material: mp-1212084
Processing material: mp-1212556
Processing material: mp-23515
Processing material: mp-1206883
Processing material: mp-1211977
Processing material: mp-2047105
Processing material: mp-8388
Processing material: mp-1212510
Processing material: mp-1212263
Processing material: mp-1205367
Processing material: mp-1211993
Processing material: mp-19320
Processing material: mp-1212034
Processing material: mp-642655
Processing material: mp-11174
Processing material: mp-19148
Processing material: mp-27304
Processing material: mp-557610
Processing material: mp-560127
Processing material: mp-1211832
Processing material: mp-2767160
Processing material: mp-8713
Processing material: mp-8716
Processing material: mp-8719
Processing material: mp-27826
Processing material: mp-568405
Processing material: mp-556546
Processing material: mp-19252
Processing material: mp-1025162
Processing material: mp-27835
Processing material: mp-23533
Processing material: mp-862794
Processing material: mp-29334
Processing material: mp-2760749
Processing material: mp-505397
Processing material: mp-1025158
Processing material: mp-23021
Processing material: mp-22947
Processing material: mp-7824
Processing material: mp-27595
Processing material: mp-867920
Processing material: mp-8018
Processing material: mp-1097045
Processing material: mp-23471
Processing material: mp-17789
Processing material: mp-1206472
Processing material: mp-27632
Processing material: mp-1091363
Processing material: mp-573568
Processing material: mp-28776
Processing material: mp-28496
Processing material: mp-1224157
Processing material: mp-10434
Processing material: mp-16787
Processing material: mp-1206608
Processing material: mp-568914
Processing material: mp-27585
Processing material: mp-1188268
Processing material: mp-541998
Processing material: mp-2740887
Processing material: mp-27565
Processing material: mp-560563
Processing material: mp-1228670
Processing material: mp-555101
Processing material: mp-28825
Processing material: mp-1111695
Processing material: mp-14015
Processing material: mp-510225
Processing material: mp-978098
Processing material: mp-2899517
Processing material: mp-2042
Processing material: mp-1077340
Processing material: mp-1553
Processing material: mp-18974
Processing material: mp-1184890
Processing material: mp-1184821
Processing material: mp-22108
Processing material: mp-22274
Processing material: mp-1184899
Processing material: mp-19024
Processing material: mp-3346
Processing material: mp-1147679
Processing material: mp-21551
Processing material: mp-1212111
Processing material: mp-1202244
Processing material: mp-568040
Processing material: mp-1077063
Processing material: mp-28571
Processing material: mp-1226163
Processing material: mp-30223
Processing material: mp-30282
Processing material: mp-20760
Processing material: mp-1188908
Processing material: mp-1205711
Processing material: mp-30755
Processing material: mp-867880
Processing material: mp-1199162
Processing material: mp-1201621
Processing material: mp-569565
Processing material: mp-27330
Processing material: mp-29326
Processing material: mp-640095
Processing material: mp-20909
Processing material: mp-1224015
Processing material: mp-9612
Processing material: mp-1191066
Processing material: mp-29150
Processing material: mp-1211014
Processing material: mp-31353
Processing material: mp-3222
Processing material: mp-371
Processing material: mp-673814
Processing material: mp-541612
Processing material: mp-531717
Processing material: mp-1211404
Processing material: mp-31288
Processing material: mp-10961
Processing material: mp-510494
Processing material: mp-569350
Processing material: mp-30210
Processing material: mp-30211
Processing material: mp-1211603
Processing material: mp-1200065
Processing material: mp-1197673
Processing material: mp-1203722
Processing material: mp-1199127
Processing material: mp-1223645
Processing material: mp-1223337
Processing material: mp-2212268
Processing material: mp-31322
Processing material: mp-1200922
Processing material: mp-555890
Processing material: mp-1223204
Processing material: mp-2760706
Processing material: mp-3088
Processing material: mp-28572
Processing material: mp-1222912
Processing material: mp-1185183
Processing material: mp-1223179
Processing material: mp-1222918
Processing material: mp-1223428
Processing material: mp-1222905
Processing material: mp-30559
Processing material: mp-9552
Processing material: mp-504771
Processing material: mp-568056
Processing material: mp-1288145
Processing material: mp-1018740
Processing material: mp-13005
Processing material: mp-19281
Processing material: mp-10328
Processing material: mp-1105933
Processing material: mp-1222960
Processing material: mp-1185198
Processing material: mp-1223023
Processing material: mp-1222902
Processing material: mp-1185182
Processing material: mp-1185607
Processing material: mp-975616
Processing material: mp-19743
Processing material: mp-1078634
Processing material: mp-505332
Processing material: mp-1222806
Processing material: mp-1185230
Processing material: mp-1191038
Processing material: mp-1212410
Processing material: mp-3289
Processing material: mp-989589
Processing material: mp-19737
Processing material: mp-3213
Processing material: mp-973254
Processing material: mp-1222868
Processing material: mp-1222896
Processing material: mp-1222871
Processing material: mp-1222858
Processing material: mp-2317
Processing material: mp-23671
Processing material: mp-1193093
Processing material: mp-2764171
Processing material: mp-1185004
Processing material: mp-973887
Processing material: mp-1222862
Processing material: mp-1077837
Processing material: mp-1076970
Processing material: mp-1024951
Processing material: mp-30756
Processing material: mp-20756
Processing material: mp-1222731
Processing material: mp-1222723
Processing material: mp-8864
Processing material: mp-774082
Processing material: mp-1238817
Processing material: mp-652399
Processing material: mp-1045401
Processing material: mp-774941
Processing material: mp-8132
Processing material: mp-765413
Processing material: mp-1210884
Processing material: mp-1212397
Processing material: mp-1191829
Processing material: mp-1173879
Processing material: mp-555112
Processing material: mp-867474
Processing material: mp-760680
Processing material: mp-755193
Processing material: mp-865483
Processing material: mp-865349
Processing material: mp-532085
Processing material: mp-34148
Processing material: mp-556229
Processing material: mp-754966
Processing material: mp-18988
Processing material: mp-22439
Processing material: mp-35759
Processing material: mp-7661
Processing material: mp-754870
Processing material: mp-976955
Processing material: mp-4630
Processing material: mp-1222748
Processing material: mp-570813
Processing material: mp-15885
Processing material: mp-753861
Processing material: mp-1018762
Processing material: mp-1018761
Processing material: mp-1029492
Processing material: mp-561396
Processing material: mp-770632
Processing material: mp-759234
Processing material: mp-776627
Processing material: mp-28628
Processing material: mp-1077469
Processing material: mp-1211465
Processing material: mp-37692
Processing material: mp-551675
Processing material: mp-21633
Processing material: mp-691115
Processing material: mp-9159
Processing material: mp-23361
Processing material: mp-19511
Processing material: mp-530177
Processing material: mp-1029448
Processing material: mp-1211132
Processing material: mp-18925
Processing material: mp-1029739
Processing material: mp-1029726
Processing material: mp-756490
Processing material: mp-1211124
Processing material: mp-1030649
Processing material: mp-29250
Processing material: mp-1105393
Processing material: mp-673706
Processing material: mp-5515
Processing material: mp-766823
Processing material: mp-1192957
Processing material: mp-20428
Processing material: mp-1106082
Processing material: mp-1006328
Processing material: mp-867295
Processing material: mp-554689
Processing material: mp-1246834
Processing material: mp-674219
Processing material: mp-18793
Processing material: mp-1185306
Processing material: mp-4226
Processing material: mp-758265
Processing material: mp-2759992
Processing material: mp-1222348
Processing material: mp-1185335
Processing material: mp-1098000
Processing material: mp-1095352
Processing material: mp-1095380
Processing material: mp-1106100
Processing material: mp-541365
Processing material: mp-1211143
Processing material: mp-1095425
Processing material: mp-865175
Processing material: mp-557403
Processing material: mp-21471
Processing material: mp-1211043
Processing material: mp-1210931
Processing material: mp-1222351
Processing material: mp-757614
Processing material: mp-862290
Processing material: mp-1185394
Processing material: mp-1185354
Processing material: mp-866058
Processing material: mp-1185378
Processing material: mp-867244
Processing material: mp-14210
Processing material: mp-867969
Processing material: mp-21332
Processing material: mp-15792
Processing material: mp-1191877
Processing material: mp-11172
Processing material: mp-1272804
Processing material: mp-676780
Processing material: mp-558059
Processing material: mp-752752
Processing material: mp-1246000
Processing material: mp-754656
Processing material: mp-1176614
Processing material: mp-861629
Processing material: mp-861658
Processing material: mp-2760269
Processing material: mp-2348641
Processing material: mp-1185270
Processing material: mp-1235059
Processing material: mp-1079181
Processing material: mp-1079855
Processing material: mp-1095099
Processing material: mp-600561
Processing material: mp-11171
Processing material: mp-1078834
Processing material: mp-5670
Processing material: mp-1206595
Processing material: mp-27403
Processing material: mp-1222392
Processing material: mp-31066
Processing material: mp-8007
Processing material: mp-754895
Processing material: mp-570512
Processing material: mp-759647
Processing material: mp-754674
Processing material: mp-1222514
Processing material: mp-12061
Processing material: mp-18450
Processing material: mp-571098
Processing material: mp-1104317
Processing material: mp-1103523
Processing material: mp-13405
Processing material: mp-3400
Processing material: mp-1207112
Processing material: mp-1103835
Processing material: mp-1203385
Processing material: mp-1203980
Processing material: mp-1211114
Processing material: mp-1211033
Processing material: mp-16490
Processing material: mp-1191153
Processing material: mp-1204082
Processing material: mp-15826
Processing material: mp-1189949
Processing material: mp-1185457
Processing material: mp-1025175
Processing material: mp-1192008
Processing material: mp-4214
Processing material: mp-567900
Processing material: mp-865350
Processing material: mp-19153
Processing material: mp-1203732
Processing material: mp-1103893
Processing material: mp-1210815
Processing material: mp-1222465
Processing material: mp-1188811
Processing material: mp-17460
Processing material: mp-1210574
Processing material: mp-1222910
Processing material: mp-1202005
Processing material: mp-1196018
Processing material: mp-1205874
Processing material: mp-11203
Processing material: mp-1210681
Processing material: mp-1193176
Processing material: mp-1206034
Processing material: mp-1206042
Processing material: mp-1222470
Processing material: mp-1222488
Processing material: mp-2206
Processing material: mp-1200073
Processing material: mp-1196904
Processing material: mp-1211507
Processing material: mp-22714
Processing material: mp-755471
Processing material: mp-19360
Processing material: mp-2463
Processing material: mp-1101759
Processing material: mp-1200053
Processing material: mp-1001606
Processing material: mp-542397
Processing material: mp-18808
Processing material: mp-11491
Processing material: mp-865639
Processing material: mp-865443
Processing material: mp-865378
Processing material: mp-1185504
Processing material: mp-19959
Processing material: mp-20478
Processing material: mp-2767717
Processing material: mp-865461
Processing material: mp-10924
Processing material: mp-1400392
Processing material: mp-20673
Processing material: mp-1211250
Processing material: mp-1443978
Processing material: mp-762447
Processing material: mp-767791
Processing material: mp-759796
Processing material: mp-569003
Processing material: mp-10922
Processing material: mp-1029520
Processing material: mp-770423
Processing material: mp-1210648
Processing material: mp-759694
Processing material: mp-3778
Processing material: mp-1099253
Processing material: mp-20424
Processing material: mp-1443950
Processing material: mp-19202
Processing material: mp-554955
Processing material: mp-1404142
Processing material: mp-865187
Processing material: mp-27510
Processing material: mp-1391800
Processing material: mp-20354
Processing material: mp-1247154
Processing material: mp-770618
Processing material: mp-1185892
Processing material: mp-976406
Processing material: mp-977463
Processing material: mp-1398330
Processing material: mp-2675
Processing material: mp-10700
Processing material: mp-1185917
Processing material: mp-9927
Processing material: mp-864941
Processing material: mp-977586
Processing material: mp-866080
Processing material: mp-1194009
Processing material: mp-1040943
Processing material: mp-27186
Processing material: mp-1407403
Processing material: mp-1221921
Processing material: mp-1104783
Processing material: mp-1025315
Processing material: mp-752598
Processing material: mp-19409
Processing material: mp-1092278
Processing material: mp-19789
Processing material: mp-1104183
Processing material: mp-15974
Processing material: mp-1025180
Processing material: mp-754068
Processing material: mp-18750
Processing material: mp-20025
Processing material: mp-20261
Processing material: mp-554980
Processing material: mp-22168
Processing material: mp-1221979
Processing material: mp-542070
Processing material: mp-780939
Processing material: mp-10199
Processing material: mp-3669
Processing material: mp-1193575
Processing material: mp-19442
Processing material: mp-771905
Processing material: mp-18971
Processing material: mp-19231
Processing material: mp-22576
Processing material: mp-1210700
Processing material: mp-28669
Processing material: mp-1222504
Processing material: mp-28525
Processing material: mp-768472
Processing material: mp-542830
Processing material: mp-1222194
Processing material: mp-7892
Processing material: mp-864988
Processing material: mp-10895
Processing material: mp-864990
Processing material: mp-1205062
Processing material: mp-28943
Processing material: mp-504697
Processing material: mp-18720
Processing material: mp-1221996
Processing material: mp-864955
Processing material: mp-1222029
Processing material: mp-20223
Processing material: mp-1221898
Processing material: mp-640047
Processing material: mp-1185981
Processing material: mp-9981
Processing material: mp-12659
Processing material: mp-865011
Processing material: mp-17867
Processing material: mp-27807
Processing material: mp-1172875
Processing material: mp-1849
Processing material: mp-2019629
Processing material: mp-1185926
Processing material: mp-865032
Processing material: mp-20664
Processing material: mp-18928
Processing material: mp-5056
Processing material: mp-17367
Processing material: mp-36884
Processing material: mp-1221536
Processing material: mp-18607
Processing material: mp-1210598
Processing material: mp-19142
Processing material: mp-21235
Processing material: mp-865554
Processing material: mp-865026
Processing material: mp-18751
Processing material: mp-1103546
Processing material: mp-1104014
Processing material: mp-19185
Processing material: mp-504423
Processing material: mp-558631
Processing material: mp-4593
Processing material: mp-18870
Processing material: mp-1545421
Processing material: mp-2046031
Processing material: mp-21313
Processing material: mp-627439
Processing material: mp-865027
Processing material: mp-15812
Processing material: mp-31908
Processing material: mp-1221804
Processing material: mp-18759
Processing material: mp-1078895
Processing material: mp-7070
Processing material: mp-28915
Processing material: mp-1245396
Processing material: mp-1210555
Processing material: mp-18795
Processing material: mp-17899
Processing material: mp-15813
Processing material: mp-1403705
Processing material: mp-15805
Processing material: mp-2856
Processing material: mp-505622
Processing material: mp-12633
Processing material: mp-617291
Processing material: mp-1111
Processing material: mp-1189157
Processing material: mp-757454
Processing material: mp-1221683
Processing material: mp-22290
Processing material: mp-1211554
Processing material: mp-778008
Processing material: mp-1197400
Processing material: mp-1172871
Processing material: mp-3224
Processing material: mp-25773
Processing material: mp-1221748
Processing material: mp-863405
Processing material: mp-29905
Processing material: mp-996995
Processing material: mp-771
Processing material: mp-1221662
Processing material: mp-1221656
Processing material: mp-755882
Processing material: mp-5491
Processing material: mp-3623
Processing material: mp-31185
Processing material: mp-20757
Processing material: mp-864950
Processing material: mp-4922
Processing material: mp-864951
Processing material: mp-10894
Processing material: mp-864980
Processing material: mp-22240
Processing material: mp-29108
Processing material: mp-567856
Processing material: mp-10049
Processing material: mp-12674
Processing material: mp-11252
Processing material: mp-12565
Processing material: mp-997183
Processing material: mp-8365
Processing material: mp-17727
Processing material: mp-1078253
Processing material: mp-12209
Processing material: mp-1221699
Processing material: mp-1104792
Processing material: mp-11270
Processing material: mp-864943
Processing material: mp-864944
Processing material: mp-864945
Processing material: mp-1221618
Processing material: mp-1185986
Processing material: mp-1095372
Processing material: mp-28306
Processing material: mp-18814
Processing material: mp-1221733
Processing material: mp-1221646
Processing material: mp-1221650
Processing material: mp-28233
Processing material: mp-1009133
Processing material: mp-19850
Processing material: mp-5396
Processing material: mp-4492
Processing material: mp-20840
Processing material: mp-1102618
Processing material: mp-20641
Processing material: mp-20249
Processing material: mp-1221679
Processing material: mp-570203
Processing material: mp-28226
Processing material: mp-1206085
Processing material: mp-510589
Processing material: mp-864946
Processing material: mp-1221692
Processing material: mp-556585
Processing material: mp-556560
Processing material: mp-541103
Processing material: mp-5529
Processing material: mp-4238
Processing material: mp-1101988
Processing material: mp-1221696
Processing material: mp-1001836
Processing material: mp-1069288
Processing material: mp-21171
Processing material: mp-865088
Processing material: mp-601285
Processing material: mp-569151
Processing material: mp-864949
Processing material: mp-865140
Processing material: mp-1078464
Processing material: mp-18649
Processing material: mp-4664
Processing material: mp-864936
Processing material: mp-1221591
Processing material: mp-28013
Processing material: mp-31328
Processing material: mp-864968
Processing material: mp-1537768
Processing material: mp-2728
Processing material: mp-865022
Processing material: mp-9374
Processing material: mp-19455
Processing material: mp-22100
Processing material: mp-9951
Processing material: mp-20335
Processing material: mp-864992
Processing material: mp-7829
Processing material: mp-11500
Processing material: mp-11501
Processing material: mp-1079845
Processing material: mp-20007
Processing material: mp-19331
Processing material: mp-1102690
Processing material: mp-600124
Processing material: mp-644514
Processing material: mp-2662
Processing material: mp-557042
Processing material: mp-2767267
Processing material: mp-8613
Processing material: mp-8695
Processing material: mp-1102640
Processing material: mp-1185995
Processing material: mp-31138
Processing material: mp-1670
Processing material: mp-1180
Processing material: mp-557668
Processing material: mp-417
Processing material: mp-865045
Processing material: mp-1422029
Processing material: mp-22554
Processing material: mp-786
Processing material: mp-555052
Processing material: mp-864957
Processing material: mp-999540
Processing material: mp-17901
Processing material: mp-1202364
Processing material: mp-21851
Processing material: mp-20949
Processing material: mp-865015
Processing material: mp-864966
Processing material: mp-864970
Processing material: mp-20096
Processing material: mp-20569
Processing material: mp-20481
Processing material: mp-4990
Processing material: mp-864971
Processing material: mp-1186026
Processing material: mp-1009222
Processing material: mp-21893
Processing material: mp-570300
Processing material: mp-998762
Processing material: mp-1102938
Processing material: mp-864953
Processing material: mp-2490654
Processing material: mp-864983
Processing material: mp-19407
Processing material: mp-1029354
Processing material: mp-11504
Processing material: mp-1221515
Processing material: mp-1186003
Processing material: mp-1386276
Processing material: mp-864985
Processing material: mp-1186005
Processing material: mp-1186001
Processing material: mp-1221500
Processing material: mp-5581
Processing material: mp-504210
Processing material: mp-542135
Processing material: mp-32108
Processing material: mp-26744
Processing material: mp-706490
Processing material: mp-23312
Processing material: mp-1221539
Processing material: mp-569005
Processing material: mp-569436
Processing material: mp-557539
Processing material: mp-504759
Processing material: mp-510536
Processing material: mp-26616
Processing material: mp-23397
Processing material: mp-504818
Processing material: mp-2019727
Processing material: mp-726118
Processing material: mp-1204579
Processing material: mp-675013
Processing material: mp-22474
Processing material: mp-1221438
Processing material: mp-1238825
Processing material: mp-505090
Processing material: mp-19844
Processing material: mp-1176434
Processing material: mp-542675
Processing material: mp-1221454
Processing material: mp-562435
Processing material: mp-638558
Processing material: mp-27569
Processing material: mp-1224118
Processing material: mp-706847
Processing material: mp-1221560
Processing material: mp-1221432
Processing material: mp-1104717
Processing material: mp-3237
Processing material: mp-2756361
Processing material: mp-764074
Processing material: mp-37458
Processing material: mp-754844
Processing material: mp-558376
Processing material: mp-28079
Processing material: mp-29745
Processing material: mp-19080
Processing material: mp-555618
Processing material: mp-755874
Processing material: mp-9753
Processing material: mp-37255
Processing material: mp-542850
Processing material: mp-1078535
Processing material: mp-568694
Processing material: mp-570955
Processing material: mp-558572
Processing material: mp-23546
Processing material: mp-15886
Processing material: mp-557315
Processing material: mp-1120790
Processing material: mp-559817
Processing material: mp-675310
Processing material: mp-36529
Processing material: mp-31126
Processing material: mp-560929
Processing material: mp-1210429
Processing material: mp-1210463
Processing material: mp-560311
Processing material: mp-30947
Processing material: mp-675237
Processing material: mp-1210340
Processing material: mp-1106352
Processing material: mp-554649
Processing material: mp-555476
Processing material: mp-1198628
Processing material: mp-1210257
Processing material: mp-732175
Processing material: mp-864913
Processing material: mp-34842
Processing material: mp-753301
Processing material: mp-882363
Processing material: mp-18762
Processing material: mp-760068
Processing material: mp-18884
Processing material: mp-19022
Processing material: mp-28698
Processing material: mp-754019
Processing material: mp-754829
Processing material: mp-760318
Processing material: mp-21996
Processing material: mp-20067
Processing material: mp-27125
Processing material: mp-5055
Processing material: mp-14780
Processing material: mp-14782
Processing material: mp-763805
Processing material: mp-556538
Processing material: mp-764233
Processing material: mp-27557
Processing material: mp-1120755
Processing material: mp-1186155
Processing material: mp-1221073
Processing material: mp-999491
Processing material: mp-865089
Processing material: mp-21404
Processing material: mp-19280
Processing material: mp-17523
Processing material: mp-646192
Processing material: mp-578604
Processing material: mp-5693
Processing material: mp-3332
Processing material: mp-676909
Processing material: mp-1221406
Processing material: mp-1007910
Processing material: mp-866047
Processing material: mp-1192832
Processing material: mp-540332
Processing material: mp-684620
Processing material: mp-15842
Processing material: mp-504552
Processing material: mp-29645
Processing material: mp-22366
Processing material: mp-22198
Processing material: mp-1103656
Processing material: mp-27771
Processing material: mp-29950
Processing material: mp-4212
Processing material: mp-7116
Processing material: mp-1189260
Processing material: mp-985289
Processing material: mp-22613
Processing material: mp-1173526
Processing material: mp-15958
Processing material: mp-1105840
Processing material: mp-1094100
Processing material: mp-5306
Processing material: mp-1192618
Processing material: mp-1193686
Processing material: mp-1193638
Processing material: mp-1198610
Processing material: mp-1220559
Processing material: mp-1192540
Processing material: mp-1193543
Processing material: mp-1194374
Processing material: mp-1209978
Processing material: mp-696500
Processing material: mp-1192941
Processing material: mp-1220476
Processing material: mp-5149
Processing material: mp-571471
Processing material: mp-20144
Processing material: mp-28019
Processing material: mp-1221111
Processing material: mp-1077790
Processing material: mp-1080817
Processing material: mp-1190207
Processing material: mp-31761
Processing material: mp-1209887
Processing material: mp-4364
Processing material: mp-864669
Processing material: mp-1220430
Processing material: mp-22152
Processing material: mp-1210192
Processing material: mp-27514
Processing material: mp-1078217
Processing material: mp-18455
Processing material: mp-19359
Processing material: mp-28156
Processing material: mp-1221034
Processing material: mp-5088
Processing material: mp-8260
Processing material: mp-999489
Processing material: mp-542710
Processing material: mp-1003638
Processing material: mp-560242
Processing material: mp-554517
Processing material: mp-18957
Processing material: mp-504778
Processing material: mp-578610
Processing material: mp-29162
Processing material: mp-561480
Processing material: mp-19149
Processing material: mp-27740
Processing material: mp-1545216
Processing material: mp-1105218
Processing material: mp-976952
Processing material: mp-29356
Processing material: mp-760024
Processing material: mp-27264
Processing material: mp-7942
Processing material: mp-1220937
Processing material: mp-1205997
Processing material: mp-5788
Processing material: mp-1120756
Processing material: mp-17999
Processing material: mp-19391
Processing material: mp-1220743
Processing material: mp-10033
Processing material: mp-2762805
Processing material: mp-2207
Processing material: mp-2012385
Processing material: mp-2355707
Processing material: mp-1186233
Processing material: mp-864857
Processing material: mp-1104273
Processing material: mp-1105815
Processing material: mp-5622
Processing material: mp-4371
Processing material: mp-1209892
Processing material: mp-1106404
Processing material: mp-15026
Processing material: mp-1220971
Processing material: mp-21420
Processing material: mp-1104674
Processing material: mp-3018
Processing material: mp-985562
Processing material: mp-1202367
Processing material: mp-1210168
Processing material: mp-571309
Processing material: mp-510232
Processing material: mp-567916
Processing material: mp-974042
Processing material: mp-356
Processing material: mp-1206451
Processing material: mp-1084826
Processing material: mp-1186251
Processing material: mp-4158
Processing material: mp-37693
Processing material: mp-36407
Processing material: mp-510028
Processing material: mp-1206412
Processing material: mp-21295
Processing material: mp-1186249
Processing material: mp-1190299
Processing material: mp-690122
Processing material: mp-1190187
Processing material: mp-12049
Processing material: mp-20647
Processing material: mp-1191821
Processing material: mp-1186256
Processing material: mp-1200551
Processing material: mp-1201577
Processing material: mp-1209972
Processing material: mp-1210091
Processing material: mp-21483
Processing material: mp-1198129
Processing material: mp-1210073
Processing material: mp-17666
Processing material: mp-17753
Processing material: mp-675770
Processing material: mp-567369
Processing material: mp-541640
Processing material: mp-8793
Processing material: mp-1210100
Processing material: mp-1105838
Processing material: mp-1464
Processing material: mp-172
Processing material: mp-1192051
Processing material: mp-1188779
Processing material: mp-567735
Processing material: mp-355
Processing material: mp-569347
Processing material: mp-1210082
Processing material: mp-1212241
Processing material: mp-3591
Processing material: mp-1198371
Processing material: mp-1059
Processing material: mp-1008865
Processing material: mp-1077379
Processing material: mp-1197357
Processing material: mp-1200320
Processing material: mp-17319
Processing material: mp-20531
Processing material: mp-21890
Processing material: mp-19269
Processing material: mp-19126
Processing material: mp-15931
Processing material: mp-864797
Processing material: mp-1220173
Processing material: mp-1220180
Processing material: mp-20407
Processing material: mp-1186343
Processing material: mp-1186378
Processing material: mp-11467
Processing material: mp-11468
Processing material: mp-28753
Processing material: mp-1190769
Processing material: mp-1186318
Processing material: mp-1209825
Processing material: mp-11194
Processing material: mp-19393
Processing material: mp-20852
Processing material: mp-9527
Processing material: mp-1095561
Processing material: mp-1824
Processing material: mp-1192615
Processing material: mp-22106
Processing material: mp-621994
Processing material: mp-4854
Processing material: mp-1077443
Processing material: mp-975049
Processing material: mp-22331
Processing material: mp-1220154
Processing material: mp-1220117
Processing material: mp-541129
Processing material: mp-1096784
Processing material: mp-19384
Processing material: mp-22552
Processing material: mp-28138
Processing material: mp-504722
Processing material: mp-19135
Processing material: mp-755995
Processing material: mp-780572
Processing material: mp-558870
Processing material: mp-12636
Processing material: mp-2767174
Processing material: mp-29366
Processing material: mp-1186372
Processing material: mp-973843
Processing material: mp-2622
Processing material: mp-567978
Processing material: mp-19987
Processing material: mp-977444
Processing material: mp-864791
Processing material: mp-1186389
Processing material: mp-865858
Processing material: mp-973876
Processing material: mp-27474
Processing material: mp-861973
Processing material: mp-27291
Processing material: mp-864655
Processing material: mp-1186420
Processing material: mp-861976
Processing material: mp-505570
Processing material: mp-862817
Processing material: mp-1186414
Processing material: mp-862851
Processing material: mp-861987
Processing material: mp-861991
Processing material: mp-862813
Processing material: mp-862821
Processing material: mp-862822
Processing material: mp-1186407
Processing material: mp-862866
Processing material: mp-862865
Processing material: mp-8585
Processing material: mp-20284
Processing material: mp-1524446
Processing material: mp-1186450
Processing material: mp-8547
Processing material: mp-862990
Processing material: mp-1186436
Processing material: mp-1186451
Processing material: mp-863660
Processing material: mp-1186456
Processing material: mp-1186457
Processing material: mp-1100765
Processing material: mp-1186461
Processing material: mp-863684
Processing material: mp-982615
Processing material: mp-982613
Processing material: mp-863733
Processing material: mp-1186486
Processing material: mp-865545
Processing material: mp-865467
Processing material: mp-1100762
Processing material: mp-864629
Processing material: mp-1186478
Processing material: mp-982387
Processing material: mp-1186496
Processing material: mp-1186498
Processing material: mp-1186514
Processing material: mp-867199
Processing material: mp-1272688
Processing material: mp-21275
Processing material: mp-705872
Processing material: mp-10123
Processing material: mp-1209988
Processing material: mp-21573
Processing material: mp-22638
Processing material: mp-554705
Processing material: mp-17360
Processing material: mp-504969
Processing material: mp-18806
Processing material: mp-22697
Processing material: mp-1210020
Processing material: mp-656887
Processing material: mp-12798
Processing material: mp-19448
Processing material: mp-997095
Processing material: mp-27637
Processing material: mp-19147
Processing material: mp-27396
Processing material: mp-559798
Processing material: mp-614777
Processing material: mp-27638
Processing material: mp-505273
Processing material: mp-19009
Processing material: mp-28957
Processing material: mp-20854
Processing material: mp-1078668
Processing material: mp-945
Processing material: mp-1186117
Processing material: mp-558838
Processing material: mp-20580
Processing material: mp-18749
Processing material: mp-20460
Processing material: mp-18817
Processing material: mp-560023
Processing material: mp-21179
Processing material: mp-5267
Processing material: mp-22385
Processing material: mp-505372
Processing material: mp-22125
Processing material: mp-21130
Processing material: mp-1209793
Processing material: mp-10866
Processing material: mp-16471
Processing material: mp-570073
Processing material: mp-27986
Processing material: mp-1196815
Processing material: mp-20166
Processing material: mp-22433
Processing material: mp-9033
Processing material: mp-9042
Processing material: mp-505142
Processing material: mp-20292
Processing material: mp-3106
Processing material: mp-647347
Processing material: mp-647240
Processing material: mp-1203025
Processing material: mp-554714
Processing material: mp-1202868
Processing material: mp-504783
Processing material: mp-1209834
Processing material: mp-1207029
Processing material: mp-1200721
Processing material: mp-684922
Processing material: mp-1103625
Processing material: mp-573390
Processing material: mp-505267
Processing material: mp-1189843
Processing material: mp-1198315
Processing material: mp-982385
Processing material: mp-2039388
Processing material: mp-1197019
Processing material: mp-568841
Processing material: mp-20660
Processing material: mp-2047851
Processing material: mp-16520
Processing material: mp-2186
Processing material: mp-19867
Processing material: mp-15691
Processing material: mp-20127
Processing material: mp-864613
Processing material: mp-1103809
Processing material: mp-1083
Processing material: mp-1188425
Processing material: mp-30442
Processing material: mp-23166
Processing material: mp-977422
Processing material: mp-23278
Processing material: mp-2752817
Processing material: mp-310
Processing material: mp-504787
Processing material: mp-1209816
Processing material: mp-20821
Processing material: mp-1080762
Processing material: mp-1025198
Processing material: mp-20365
Processing material: mp-24285
Processing material: mp-977385
Processing material: mp-1204846
Processing material: mp-504781
Processing material: mp-30279
Processing material: mp-2149
Processing material: mp-2596
Processing material: mp-1532
Processing material: mp-1025137
Processing material: mp-2616
Processing material: mp-10108
Processing material: mp-1188998
Processing material: mp-1066577
Processing material: mp-1105856
Processing material: mp-11536
Processing material: mp-10109
Processing material: mp-8137
Processing material: mp-20969
Processing material: mp-1095677
Processing material: mp-977366
Processing material: mp-1018824
Processing material: mp-627
Processing material: mp-1095184
Processing material: mp-1103836
Processing material: mp-21298
Processing material: mp-1206288
Processing material: mp-881
Processing material: mp-977411
Processing material: mp-20314
Processing material: mp-1018829
Processing material: mp-1078669
Processing material: mp-20721
Processing material: mp-1209723
Processing material: mp-28865
Processing material: mp-1104676
Processing material: mp-557132
Processing material: mp-28301
Processing material: mp-29133
Processing material: mp-571035
Processing material: mp-540830
Processing material: mp-22626
Processing material: mp-555514
Processing material: mp-1186562
Processing material: mp-1186569
Processing material: mp-1186575
Processing material: mp-1186583
Processing material: mp-1186577
Processing material: mp-1186579
Processing material: mp-1186596
Processing material: mp-1186623
Processing material: mp-1186624
Processing material: mp-1186598
Processing material: mp-1186605
Processing material: mp-1186602
Processing material: mp-1186617
Processing material: mp-863718
Processing material: mp-1186627
Processing material: mp-1186628
Processing material: mp-1186639
Processing material: mp-862958
Processing material: mp-983063
Processing material: mp-862961
Processing material: mp-1186668
Processing material: mp-1186681
Processing material: mp-1186672
Processing material: mp-976187
Processing material: mp-1202613
Processing material: mp-1219887
Processing material: mp-1080773
Processing material: mp-1105562
Processing material: mp-5054
Processing material: mp-5112
Processing material: mp-1101476
Processing material: mp-1189397
Processing material: mp-1188734
Processing material: mp-1188509
Processing material: mp-20542
Processing material: mp-5423
Processing material: mp-754632
Processing material: mp-862839
Processing material: mp-1209974
Processing material: mp-23409
Processing material: mp-570462
Processing material: mp-1210767
Processing material: mp-975788
Processing material: mp-1209732
Processing material: mp-1219910
Processing material: mp-16713
Processing material: mp-1077777
Processing material: mp-23169
Processing material: mp-978102
Processing material: mp-1197003
Processing material: mp-1105621
Processing material: mp-567727
Processing material: mp-4181
Processing material: mp-34309
Processing material: mp-1173369
Processing material: mp-1191863
Processing material: mp-975634
Processing material: mp-22854
Processing material: mp-19854
Processing material: mp-1219894
Processing material: mp-558448
Processing material: mp-1201333
Processing material: mp-978085
Processing material: mp-861594
Processing material: mp-1186695
Processing material: mp-1219900
Processing material: mp-1196472
Processing material: mp-1200172
Processing material: mp-1209381
Processing material: mp-1191719
Processing material: mp-2752729
Processing material: mp-19764
Processing material: mp-5322
Processing material: mp-1219896
Processing material: mp-30215
Processing material: mp-1209802
Processing material: mp-31354
Processing material: mp-639135
Processing material: mp-5433
Processing material: mp-1079937
Processing material: mp-1207236
Processing material: mp-618999
Processing material: mp-28736
Processing material: mp-1209726
Processing material: mp-558974
Processing material: mp-1209345
Processing material: mp-1105548
Processing material: mp-1209360
Processing material: mp-1209631
Processing material: mp-1199510
Processing material: mp-1198681
Processing material: mp-1190256
Processing material: mp-1188522
Processing material: mp-570696
Processing material: mp-1196361
Processing material: mp-570469
Processing material: mp-569261
Processing material: mp-2760866
Processing material: mp-568295
Processing material: mp-504742
Processing material: mp-1211698
Processing material: mp-646
Processing material: mp-1077088
Processing material: mp-1204360
Processing material: mp-1204625
Processing material: mp-1193900
Processing material: mp-18285
Processing material: mp-567712
Processing material: mp-1018892
Processing material: mp-1105822
Processing material: mp-18863
Processing material: mp-861512
Processing material: mp-1219977
Processing material: mp-1186762
Processing material: mp-22341
Processing material: mp-11469
Processing material: mp-569673
Processing material: mp-1191416
Processing material: mp-1079756
Processing material: mp-13436
Processing material: mp-22802
Processing material: mp-22564
Processing material: mp-975883
Processing material: mp-1219742
Processing material: mp-1102445
Processing material: mp-2370
Processing material: mp-1193428
Processing material: mp-22280
Processing material: mp-4738
Processing material: mp-21463
Processing material: mp-1219740
Processing material: mp-1219726
Processing material: mp-1209329
Processing material: mp-1209337
Processing material: mp-541474
Processing material: mp-974616
Processing material: mp-505319
Processing material: mp-1219763
Processing material: mp-22383
Processing material: mp-555672
Processing material: mp-505143
Processing material: mp-20171
Processing material: mp-21225
Processing material: mp-20047
Processing material: mp-867963
Processing material: mp-22657
Processing material: mp-22559
Processing material: mp-1186804
Processing material: mp-1205014
Processing material: mp-640470
Processing material: mp-640039
Processing material: mp-637224
Processing material: mp-1199331
Processing material: mp-33239
Processing material: mp-21421
Processing material: mp-1205450
Processing material: mp-20934
Processing material: mp-19947
Processing material: mp-1197233
Processing material: mp-684844
Processing material: mp-1206890
Processing material: mp-1202803
Processing material: mp-1105910
Processing material: mp-581934
Processing material: mp-1209671
Processing material: mp-580329
Processing material: mp-567814
Processing material: mp-1209700
Processing material: mp-1209614
Processing material: mp-2848
Processing material: mp-2752790
Processing material: mp-21416
Processing material: mp-542776
Processing material: mp-2548
Processing material: mp-861592
Processing material: mp-1104892
Processing material: mp-1072199
Processing material: mp-1188931
Processing material: mp-1024968
Processing material: mp-1072629
Processing material: mp-20467
Processing material: mp-1190919
Processing material: mp-1191689
Processing material: mp-1191620
Processing material: mp-1191218
Processing material: mp-337
Processing material: mp-22879
Processing material: mp-861727
Processing material: mp-27974
Processing material: mp-27982
Processing material: mp-1197139
Processing material: mp-862859
Processing material: mp-1186660
Processing material: mp-867358
Processing material: mp-22918
Processing material: mp-27981
Processing material: mp-863
Processing material: mp-999290
Processing material: mp-2016621
Processing material: mp-8033
Processing material: mp-1209625
Processing material: mp-29635
Processing material: mp-21200
Processing material: mp-21349
Processing material: mp-1078774
Processing material: mp-21484
Processing material: mp-24720
Processing material: mp-23679
Processing material: mp-1186792
Processing material: mp-867500
Processing material: mp-27978
Processing material: mp-21468
Processing material: mp-20360
Processing material: mp-1188083
Processing material: mp-1209553
Processing material: mp-1719
Processing material: mp-636403
Processing material: mp-21315
Processing material: mp-1959
Processing material: mp-20230
Processing material: mp-926
Processing material: mp-1190526
Processing material: mp-675479
Processing material: mp-21172
Processing material: mp-1186795
Processing material: mp-21085
Processing material: mp-1065793
Processing material: mp-2523
Processing material: mp-7751
Processing material: mp-1192270
Processing material: mp-1897
Processing material: mp-1678
Processing material: mp-2086
Processing material: mp-639690
Processing material: mp-1102456
Processing material: mp-863035
Processing material: mp-1018953
Processing material: mp-2288
Processing material: mp-1018954
Processing material: mp-20713
Processing material: mp-10186
Processing material: mp-1102067
Processing material: mp-861599
Processing material: mp-2017283
Processing material: mp-1191553
Processing material: mp-1556
Processing material: mp-1019107
Processing material: mp-1080793
Processing material: mp-2647162
Processing material: mp-1219668
Processing material: mp-1188092
Processing material: mp-1186805
Processing material: mp-560663
Processing material: mp-1239181
Processing material: mp-975359
Processing material: mp-1219790
Processing material: mp-1219673
Processing material: mp-1179800
Processing material: mp-1209654
Processing material: mp-1210098
Processing material: mp-542299
Processing material: mp-23366
Processing material: mp-23076
Processing material: mp-560878
Processing material: mp-27517
Processing material: mp-33498
Processing material: mp-27154
Processing material: mp-2041196
Processing material: mp-1025177
Processing material: mp-1206438
Processing material: mp-1209650
Processing material: mp-1209763
Processing material: mp-2749603
Processing material: mp-1206640
Processing material: mp-28600
Processing material: mp-1101471
Processing material: mp-1209447
Processing material: mp-554337
Processing material: mp-1105776
Processing material: mp-4052
Processing material: mp-1209522
Processing material: mp-22978
Processing material: mp-571648
Processing material: mp-1206523
Processing material: mp-555014
Processing material: mp-558133
Processing material: mp-1209441
Processing material: mp-505209
Processing material: mp-8714
Processing material: mp-8717
Processing material: mp-8720
Processing material: mp-1205757
Processing material: mp-570558
Processing material: mp-8994
Processing material: mp-561317
Processing material: mp-19167
Processing material: mp-1025179
Processing material: mp-29333
Processing material: mp-29336
Processing material: mp-1207217
Processing material: mp-1205863
Processing material: mp-22214
Processing material: mp-542697
Processing material: mp-1209302
Processing material: mp-1206836
Processing material: mp-1209530
Processing material: mp-28881
Processing material: mp-13595
Processing material: mp-1209543
Processing material: mp-2752754
Processing material: mp-1209363
Processing material: mp-510519
Processing material: mp-1207222
Processing material: mp-2046810
Processing material: mp-29481
Processing material: mp-30227
Processing material: mp-1220065
Processing material: mp-541448
Processing material: mp-541963
Processing material: mp-1113631
Processing material: mp-1113833
Processing material: mp-1193685
Processing material: mp-758431
Processing material: mp-1209364
Processing material: mp-643697
Processing material: mp-553971
Processing material: mp-29458
Processing material: mp-1113829
Processing material: mp-29413
Processing material: mp-1113825
Processing material: mp-505639
Processing material: mp-1113820
Processing material: mp-650503
Processing material: mp-1113821
Processing material: mp-1191800
Processing material: mp-828605
Processing material: mp-779000
Processing material: mp-541389
Processing material: mp-768830
Processing material: mp-772572
Processing material: mp-31512
Processing material: mp-1179390
Processing material: mp-561139
Processing material: mp-1209496
Processing material: mp-3535
Processing material: mp-10777
Processing material: mp-4240
Processing material: mp-541814
Processing material: mp-1029420
Processing material: mp-30547
Processing material: mp-616544
Processing material: mp-7295
Processing material: mp-28818
Processing material: mp-975531
Processing material: mp-559677
Processing material: mp-554311
Processing material: mp-771648
Processing material: mp-1206603
Processing material: mp-23055
Processing material: mp-504520
Processing material: mp-1195892
Processing material: mp-1209606
Processing material: mp-504968
Processing material: mp-555667
Processing material: mp-1209403
Processing material: mp-755536
Processing material: mp-5372
Processing material: mp-7086
Processing material: mp-1209362
Processing material: mp-1209289
Processing material: mp-7976
Processing material: mp-7045
Processing material: mp-10781
Processing material: mp-19914
Processing material: mp-752932
Processing material: mp-1173584
Processing material: mp-568231
Processing material: mp-569309
Processing material: mp-558749
Processing material: mp-553981
Processing material: mp-559700
Processing material: mp-27409
Processing material: mp-23486
Processing material: mp-556488
Processing material: mp-12105
Processing material: mp-1205111
Processing material: mp-998602
Processing material: mp-8958
Processing material: mp-8014
Processing material: mp-975271
Processing material: mp-28282
Processing material: mp-16318
Processing material: mp-1194637
Processing material: mp-11775
Processing material: mp-1103598
Processing material: mp-2760180
Processing material: mp-568136
Processing material: mp-23319
Processing material: mp-556424
Processing material: mp-12024
Processing material: mp-1209078
Processing material: mp-23472
Processing material: mp-29593
Processing material: mp-1102176
Processing material: mp-672376
Processing material: mp-1078114
Processing material: mp-1025374
Processing material: mp-622116
Processing material: mp-19790
Processing material: mp-540622
Processing material: mp-1209109
Processing material: mp-505242
Processing material: mp-22892
Processing material: mp-29132
Processing material: mp-22850
Processing material: mp-28437
Processing material: mp-7570
Processing material: mp-974434
Processing material: mp-540829
Processing material: mp-1209121
Processing material: mp-27288
Processing material: mp-30109
Processing material: mp-27318
Processing material: mp-3701
Processing material: mp-1219472
Processing material: mp-755805
Processing material: mp-510133
Processing material: mp-1104929
Processing material: mp-19739
Processing material: mp-505554
Processing material: mp-11438
Processing material: mp-31081
Processing material: mp-19936
Processing material: mp-12697
Processing material: mp-1219646
Processing material: mp-2752593
Processing material: mp-647205
Processing material: mp-862711
Processing material: mp-1191428
Processing material: mp-1189235
Processing material: mp-862712
Processing material: mp-17334
Processing material: mp-510306
Processing material: mp-608543
Processing material: mp-1102564
Processing material: mp-31348
Processing material: mp-1190950
Processing material: mp-17619
Processing material: mp-3930
Processing material: mp-14928
Processing material: mp-1197416
Processing material: mp-7192
Processing material: mp-861918
Processing material: mp-1186961
Processing material: mp-21719
Processing material: mp-862259
Processing material: mp-3155
Processing material: mp-861910
Processing material: mp-19713
Processing material: mp-1186976
Processing material: mp-1186974
Processing material: mp-1209006
Processing material: mp-18645
Processing material: mp-607138
Processing material: mp-542449
Processing material: mp-1197755
Processing material: mp-541102
Processing material: mp-1192939
Processing material: mp-1206267
Processing material: mp-11201
Processing material: mp-10445
Processing material: mp-1209292
Processing material: mp-1206500
Processing material: mp-10446
Processing material: mp-1219422
Processing material: mp-505489
Processing material: mp-504921
Processing material: mp-28321
Processing material: mp-27513
Processing material: mp-1190159
Processing material: mp-1219358
Processing material: mp-862565
Processing material: mp-1077397
Processing material: mp-2212
Processing material: mp-253
Processing material: mp-3791
Processing material: mp-1195823
Processing material: mp-1103160
Processing material: mp-1197663
Processing material: mp-540
Processing material: mp-9549
Processing material: mp-1201682
Processing material: mp-22701
Processing material: mp-1207100
Processing material: mp-2039
Processing material: mp-1079729
Processing material: mp-1200195
Processing material: mp-867850
Processing material: mp-9550
Processing material: mp-1205070
Processing material: mp-1072255
Processing material: mp-862629
Processing material: mp-862623
Processing material: mp-13243
Processing material: mp-619571
Processing material: mp-7276
Processing material: mp-19072
Processing material: mp-1219280
Processing material: mp-1104984
Error processing material mp-1105798: ('Connection aborted.', RemoteDisconnected('Remote end closed connection without response'))
Processing material: mp-573563
Processing material: mp-9417
Processing material: mp-1219387
Processing material: mp-20646
Processing material: mp-1104498
Processing material: mp-13473
Processing material: mp-1208781
Processing material: mp-1191859
Processing material: mp-1208799
Processing material: mp-1209696
Processing material: mp-1209134
Processing material: mp-1209691
Processing material: mp-1210149
Processing material: mp-1005690
Processing material: mp-1195895
Processing material: mp-1105544
Processing material: mp-1190439
Processing material: mp-540547
Processing material: mp-4210
Processing material: mp-1191147
Processing material: mp-1196306
Processing material: mp-1196278
Processing material: mp-1219231
Processing material: mp-1207243
Processing material: mp-22044
Processing material: mp-19816
Processing material: mp-978891
Processing material: mp-1005693
Processing material: mp-1005829
Processing material: mp-756215
Processing material: mp-1079654
Processing material: mp-554770
Processing material: mp-1188478
Processing material: mp-1205812
Processing material: mp-558131
Processing material: mp-1219207
Processing material: mp-972536
Processing material: mp-867191
Processing material: mp-978807
Processing material: mp-978973
Processing material: mp-504614
Processing material: mp-1219047
Processing material: mp-636334
Processing material: mp-36819
Processing material: mp-571203
Processing material: mp-5671
Processing material: mp-1188542
Processing material: mp-1179405
Processing material: mp-2755266
Processing material: mp-556809
Processing material: mp-29908
Processing material: mp-758049
Processing material: mp-569111
Processing material: mp-567788
Processing material: mp-767781
Processing material: mp-757304
Processing material: mp-767432
Processing material: mp-772462
Processing material: mp-1209031
Processing material: mp-675396
Processing material: mp-1105484
Processing material: mp-1105102
Processing material: mp-980429
Processing material: mp-21202
Processing material: mp-15326
Processing material: mp-705801
Processing material: mp-1209016
Processing material: mp-5447
Processing material: mp-1205407
Processing material: mp-555525
Processing material: mp-617312
Processing material: mp-571606
Processing material: mp-1209194
Processing material: mp-1188575
Processing material: mp-1506
Processing material: mp-980757
Processing material: mp-567800
Processing material: mp-1189874
Processing material: mp-1188446
Processing material: mp-1219263
Processing material: mp-1203633
Processing material: mp-1204028
Processing material: mp-1198585
Processing material: mp-1196326
Processing material: mp-1201769
Processing material: mp-1196845
Processing material: mp-1173414
Processing material: mp-1219444
Processing material: mp-1210497
Processing material: mp-1219110
Processing material: mp-1201399
Processing material: mp-572
Processing material: mp-1072586
Processing material: mp-336
Processing material: mp-1199867
Processing material: mp-1201674
Processing material: mp-567852
Processing material: mp-1019108
Processing material: mp-1105788
Processing material: mp-18956
Processing material: mp-1219064
Processing material: mp-1219071
Processing material: mp-1187040
Processing material: mp-20416
Processing material: mp-20243
Processing material: mp-999177
Processing material: mp-980004
Processing material: mp-1218985
Processing material: mp-1219295
Processing material: mp-1219007
Processing material: mp-1218995
Processing material: mp-1207109
Processing material: mp-1187022
Processing material: mp-1191123
Processing material: mp-2558
Processing material: mp-569494
Processing material: mp-1219044
Processing material: mp-19358
Processing material: mp-22203
Processing material: mp-1019102
Processing material: mp-1078797
Processing material: mp-1095619
Processing material: mp-1075
Processing material: mp-22495
Processing material: mp-5919
Processing material: mp-1219038
Processing material: mp-1188225
Processing material: mp-556076
Processing material: mp-1029923
Processing material: mp-19514
Processing material: mp-5456
Processing material: mp-19102
Processing material: mp-18798
Processing material: mp-757102
Processing material: mp-4596
Processing material: mp-1192011
Processing material: mp-18924
Processing material: mp-18820
Processing material: mp-1246649
Processing material: mp-1029741
Processing material: mp-9325
Processing material: mp-1029686
Processing material: mp-1245993
Processing material: mp-559909
Processing material: mp-1029750
Processing material: mp-22391
Processing material: mp-759747
Processing material: mp-9039
Processing material: mp-557481
Processing material: mp-36836
Processing material: mp-680680
Processing material: mp-1218792
Processing material: mp-1195596
Processing material: mp-675076
Processing material: mp-1218652
Processing material: mp-19235
Processing material: mp-561047
Processing material: mp-541049
Processing material: mp-567532
Processing material: mp-1030752
Processing material: mp-573523
Processing material: mp-570853
Processing material: mp-18381
Processing material: mp-540583
Processing material: mp-558281
Processing material: mp-554332
Processing material: mp-12265
Processing material: mp-1187174
Processing material: mp-27338
Processing material: mp-510624
Processing material: mp-3523
Processing material: mp-1029878
Processing material: mp-1542758
Processing material: mp-29973
Processing material: mp-21524
Processing material: mp-8146
Processing material: mp-9926
Processing material: mp-22390
Processing material: mp-28740
Processing material: mp-1195141
Processing material: mp-30297
Processing material: mp-1077930
Processing material: mp-1193985
Processing material: mp-28375
Processing material: mp-31517
Processing material: mp-540716
Processing material: mp-32308
Processing material: mp-21860
Processing material: mp-1187201
Processing material: mp-977382
Processing material: mp-1208409
Processing material: mp-1193113
Processing material: mp-1189011
Processing material: mp-1189616
Processing material: mp-1218087
Processing material: mp-1218044
Processing material: mp-1190092
Processing material: mp-1188354
Processing material: mp-1193305
Processing material: mp-1208377
Processing material: mp-554416
Processing material: mp-3581
Processing material: mp-1218028
Processing material: mp-1218047
Processing material: mp-672652
Processing material: mp-1104956
Processing material: mp-1103826
Processing material: mp-1218055
Processing material: mp-1218003
Processing material: mp-3340
Processing material: mp-11358
Processing material: mp-1208576
Processing material: mp-1095553
Processing material: mp-753467
Processing material: mp-1218218
Processing material: mp-568077
Processing material: mp-1217935
Processing material: mp-1080089
Processing material: mp-1103196
Processing material: mp-867216
Processing material: mp-1101943
Processing material: mp-30555
Processing material: mp-1187233
Processing material: mp-12678
Processing material: mp-867120
Processing material: mp-1079643
Processing material: mp-867811
Processing material: mp-1019276
Processing material: mp-867475
Processing material: mp-867821
Processing material: mp-760439
Processing material: mp-567276
Processing material: mp-1217816
Processing material: mp-755190
Processing material: mp-865805
Processing material: mp-3546
Processing material: mp-1217840
Processing material: mp-1188842
Processing material: mp-12075
Processing material: mp-21565
Processing material: mp-645166
Processing material: mp-1104796
Processing material: mp-22486
Processing material: mp-22012
Processing material: mp-5677
Processing material: mp-12817
Processing material: mp-1197004
Processing material: mp-1208636
Processing material: mp-1208573
Processing material: mp-29954
Processing material: mp-692
Processing material: mp-1025498
Processing material: mp-980937
Processing material: mp-1196092
Processing material: mp-1189067
Processing material: mp-567614
Processing material: mp-1005831
Processing material: mp-2045196
Processing material: mp-1025266
Processing material: mp-646337
Processing material: mp-1191561
Processing material: mp-5759
Processing material: mp-1197275
Processing material: mp-1217710
Processing material: mp-1207140
Processing material: mp-20608
Processing material: mp-1187276
Processing material: mp-1191573
Processing material: mp-754207
Processing material: mp-639228
Processing material: mp-1087513
Processing material: mp-1189379
Processing material: mp-21712
Processing material: mp-510083
Processing material: mp-1187269
Processing material: mp-28827
Processing material: mp-1208474
Processing material: mp-1208516
Processing material: mp-972235
Processing material: mp-1197692
Processing material: mp-623751
Processing material: mp-1191300
Processing material: mp-1187308
Processing material: mp-1208453
Processing material: mp-972380
Processing material: mp-1105609
Processing material: mp-1191047
Processing material: mp-1190904
Processing material: mp-1187319
Processing material: mp-29847
Processing material: mp-569343
Processing material: mp-1192980
Processing material: mp-1208421
Processing material: mp-677244
Processing material: mp-1189848
Processing material: mp-1208603
Processing material: mp-510592
Processing material: mp-1208445
Processing material: mp-1673
Processing material: mp-640444
Processing material: mp-1188772
Processing material: mp-1208616
Processing material: mp-1198347
Processing material: mp-1188309
Processing material: mp-1105586
Processing material: mp-1079253
Processing material: mp-1208520
Processing material: mp-1189524
Processing material: mp-1105727
Processing material: mp-1205323
Processing material: mp-1188684
Processing material: mp-1105605
Processing material: mp-2760734
Processing material: mp-1189771
Processing material: mp-1190033
Processing material: mp-1106228
Processing material: mp-1205326
Processing material: mp-1188900
Processing material: mp-568617
Processing material: mp-27924
Processing material: mp-1077082
Processing material: mp-2265
Processing material: mp-1095562
Processing material: mp-1545138
Processing material: mp-3040
Processing material: mp-1203453
Processing material: mp-2028749
Processing material: mp-1196894
Processing material: mp-1208336
Processing material: mp-22158
Processing material: mp-21203
Processing material: mp-756124
Processing material: mp-19272
Processing material: mp-1217589
Processing material: mp-589
Processing material: mp-2584
Processing material: mp-1203752
Processing material: mp-1208346
Processing material: mp-999122
Processing material: mp-21363
Processing material: mp-11417
Processing material: mp-568687
Processing material: mp-1103095
Processing material: mp-1208354
Processing material: mp-1208350
Processing material: mp-1217618
Processing material: mp-1187524
Processing material: mp-1943796
Processing material: mp-1217468
Processing material: mp-1070837
Processing material: mp-18525
Processing material: mp-1191670
Processing material: mp-22055
Processing material: mp-20822
Processing material: mp-1102054
Processing material: mp-1077552
Processing material: mp-30808
Processing material: mp-755865
Processing material: mp-1187370
Processing material: mp-4395
Processing material: mp-1071036
Processing material: mp-867290
Processing material: mp-21433
Processing material: mp-22532
Processing material: mp-1217458
Processing material: mp-554811
Processing material: mp-570480
Processing material: mp-27780
Processing material: mp-1203061
Processing material: mp-1208328
Processing material: mp-27477
Processing material: mp-766504
Processing material: mp-2767093
Processing material: mp-4703
Processing material: mp-1080800
Processing material: mp-3605
Processing material: mp-1079824
Processing material: mp-7072
Processing material: mp-20238
Processing material: mp-21281
Processing material: mp-4458
Processing material: mp-16932
Processing material: mp-12584
Processing material: mp-1198402
Processing material: mp-30639
Processing material: mp-1217454
Processing material: mp-3923
Processing material: mp-649213
Processing material: mp-1208365
Processing material: mp-1208385
Processing material: mp-1217300
Processing material: mp-5557
Processing material: mp-22528
Processing material: mp-2689
Processing material: mp-21623
Processing material: mp-540904
Processing material: mp-11778
Processing material: mp-1567
Processing material: mp-1217311
Processing material: mp-1078058
Processing material: mp-1188929
Processing material: mp-1192454
Processing material: mp-1188631
Processing material: mp-1208222
Processing material: mp-1217391
Processing material: mp-1193707
Processing material: mp-867373
Processing material: mp-1217124
Processing material: mp-861639
Processing material: mp-1187422
Processing material: mp-861641
Processing material: mp-862911
Processing material: mp-861656
Processing material: mp-861672
Processing material: mp-863690
Processing material: mp-861983
Processing material: mp-865712
Processing material: mp-865768
Processing material: mp-865469
Processing material: mp-1808
Processing material: mp-865728
Processing material: mp-1206780
Processing material: mp-972238
Processing material: mp-1187461
Processing material: mp-2643
Processing material: mp-1217193
Processing material: mp-1217094
Processing material: mp-13993
Processing material: mp-865899
Processing material: mp-1412
Processing material: mp-644483
Processing material: mp-15669
Processing material: mp-697076
Processing material: mp-766093
Processing material: mp-680260
Processing material: mp-1188792
Processing material: mp-1217247
Processing material: mp-1105097
Processing material: mp-22432
Processing material: mp-570271
Processing material: mp-569743
Processing material: mp-571457
Processing material: mp-1104366
Processing material: mp-1208239
Processing material: mp-1188153
Processing material: mp-1094043
Processing material: mp-1208261
Processing material: mp-748
Processing material: mp-22033
Processing material: mp-1208221
Processing material: mp-1101049
Processing material: mp-8244
Processing material: mp-30524
Processing material: mp-20382
Processing material: mp-540671
Processing material: mp-640045
Processing material: mp-16481
Processing material: mp-5407
Processing material: mp-31187
Processing material: mp-1217044
Processing material: mp-1208217
Processing material: mp-1018123
Processing material: mp-27333
Processing material: mp-1205742
Processing material: mp-1205667
Processing material: mp-561221
Processing material: mp-542443
Processing material: mp-1190043
Processing material: mp-541823
Processing material: mp-3407
Processing material: mp-4638
Processing material: mp-29423
Processing material: mp-1104873
Processing material: mp-1216757
Processing material: mp-1205300
Processing material: mp-754220
Processing material: mp-12076
Processing material: mp-4660
Processing material: mp-1197758
Processing material: mp-2938
Processing material: mp-1103553
Processing material: mp-1103516
Processing material: mp-3985
Processing material: mp-5641
Processing material: mp-1207007
Processing material: mp-4298
Processing material: mp-1204728
Processing material: mp-1208128
Processing material: mp-1208137
Processing material: mp-1208024
Processing material: mp-1208192
Processing material: mp-1216546
Processing material: mp-979046
Processing material: mp-1196360
Processing material: mp-971855
Processing material: mp-1205659
Processing material: mp-1190707
Processing material: mp-5861
Processing material: mp-570414
Processing material: mp-1208084
Processing material: mp-1206838
Processing material: mp-1078916
Processing material: mp-1190589
Processing material: mp-755041
Processing material: mp-505330
Processing material: mp-1208023
Processing material: mp-1206804
Processing material: mp-2749
Processing material: mp-1103465
Processing material: mp-27785
Processing material: mp-28214
Processing material: mp-2017901
Processing material: mp-823
Processing material: mp-4612
Processing material: mp-3657
Processing material: mp-21467
Processing material: mp-22769
Processing material: mp-1077023
Processing material: mp-1025502
Processing material: mp-246
Processing material: mp-2454
Processing material: mp-1095148
Processing material: mp-1208403
Processing material: mp-1199430
Processing material: mp-1101870
Processing material: mp-10755
Processing material: mp-2766627
Processing material: mp-8648
Processing material: mp-21662
Processing material: mp-20145
Processing material: mp-636320
Processing material: mp-1216876
Processing material: mp-865548
Processing material: mp-1949
Processing material: mp-865531
Processing material: mp-865652
Processing material: mp-865678
Processing material: mp-1205741
Processing material: mp-865537
Processing material: mp-1216946
Processing material: mp-1106030
Processing material: mp-1204392
Processing material: mp-19082
Processing material: mp-1206854
Processing material: mp-865523
Processing material: mp-21606
Processing material: mp-18732
Processing material: mp-1216763
Processing material: mp-28235
Processing material: mp-1208175
Processing material: mp-1025338
Processing material: mp-29562
Processing material: mp-1206532
Processing material: mp-22094
Processing material: mp-1208174
Processing material: mp-1208154
Processing material: mp-29556
Processing material: mp-1208031
Processing material: mp-865404
Processing material: mp-1208012
Processing material: mp-1217007
Processing material: mp-1208049
Processing material: mp-10094
Processing material: mp-1216929
Processing material: mp-1197793
Processing material: mp-1201243
Processing material: mp-1206935
Processing material: mp-11204
Processing material: mp-1192498
Processing material: mp-10342
Processing material: mp-4193
Processing material: mp-1216694
Processing material: mp-1072553
Processing material: mp-632
Processing material: mp-1204407
Processing material: mp-1195792
Processing material: mp-1208211
Processing material: mp-1207976
Processing material: mp-19754
Processing material: mp-1101079
Processing material: mp-1102633
Processing material: mp-777295
Processing material: mp-22647
Processing material: mp-571183
Processing material: mp-1103015
Processing material: mp-1102205
Processing material: mp-1201193
Processing material: mp-1065301
Processing material: mp-980669
Processing material: mp-1187676
Processing material: mp-2751309
Processing material: mp-980811
Processing material: mp-1207725
Processing material: mp-1207706
Processing material: mp-554211
Processing material: mp-1102684
Processing material: mp-11526
Processing material: mp-865787
Processing material: mp-865252
Processing material: mp-15293
Processing material: mp-755258
Processing material: mp-567807
Processing material: mp-1199103
Processing material: mp-7248
Processing material: mp-4606
Processing material: mp-20548
Processing material: mp-1193796
Processing material: mp-2011402
Processing material: mp-568155
Processing material: mp-27350
Processing material: mp-15355
Processing material: mp-1079975
Processing material: mp-611623
Processing material: mp-21429
Processing material: mp-2971
Processing material: mp-21478
Processing material: mp-22374
Processing material: mp-1087505
Processing material: mp-570631
Processing material: mp-21053
Processing material: mp-20924
Processing material: mp-643092
Processing material: mp-20341
Processing material: mp-21338
Processing material: mp-20048
Processing material: mp-1202567
Processing material: mp-2767094
Processing material: mp-20326
Processing material: mp-5510
Processing material: mp-22758
Processing material: mp-20596
Processing material: mp-5786
Processing material: mp-4793
Processing material: mp-21101
Processing material: mp-5556
Processing material: mp-3388
Processing material: mp-1202337
Processing material: mp-1203280
Processing material: mp-1198503
Processing material: mp-1199869
Processing material: mp-567950
Processing material: mp-1217494
Processing material: mp-37167
Processing material: mp-674332
Processing material: mp-1207966
Processing material: mp-1216639
Processing material: mp-541853
Processing material: mp-1217050
Processing material: mp-1207979
Processing material: mp-8894
Processing material: mp-3583
Processing material: mp-1216688
Processing material: mp-1173089
Processing material: mp-1195876
Processing material: mp-27468
Processing material: mp-2625
Processing material: mp-1216828
Processing material: mp-1216673
Processing material: mp-27661
Processing material: mp-1187852
Processing material: mp-1102473
Processing material: mp-1102105
Processing material: mp-21178
Processing material: mp-28687
Processing material: mp-20276
Processing material: mp-865419
Processing material: mp-21357
Processing material: mp-20917
Processing material: mp-1105639
Processing material: mp-541491
Processing material: mp-1095324
Processing material: mp-1079584
Processing material: mp-1188266
Processing material: mp-646609
Processing material: mp-6940
Processing material: mp-17988
Processing material: mp-1207954
Processing material: mp-21531
Processing material: mp-570800
Processing material: mp-22387
Processing material: mp-21813
Processing material: mp-865508
Processing material: mp-1216453
Processing material: mp-1216513
Processing material: mp-1069697
Processing material: mp-18946
Processing material: mp-971787
Processing material: mp-27713
Processing material: mp-2757308
Processing material: mp-865473
Processing material: mp-27841
Processing material: mp-556857
Processing material: mp-22877
Processing material: mp-28117
Processing material: mp-1205372
Processing material: mp-23061
Processing material: mp-1002109
Processing material: mp-1102168
Processing material: mp-1207799
Processing material: mp-4076
Processing material: mp-1216354
Processing material: mp-555934
Processing material: mp-559931
Processing material: mp-554799
Processing material: mp-4595
Processing material: mp-866134
Processing material: mp-22790
Processing material: mp-865585
Processing material: mp-626787
Processing material: mp-1018138
Processing material: mp-865493
Processing material: mp-541404
Processing material: mp-764900
Processing material: mp-12778
Processing material: mp-26728
Processing material: mp-27523
Processing material: mp-18835
Processing material: mp-568711
Processing material: mp-372
Processing material: mp-29931
Processing material: mp-1395
Processing material: mp-1013525
Processing material: mp-22092
Processing material: mp-694
Processing material: mp-1095532
Processing material: mp-865506
Processing material: mp-865507
Processing material: mp-1187738
Processing material: mp-11687
Processing material: mp-1187698
Processing material: mp-865487
Processing material: mp-850781
Processing material: mp-570568
Processing material: mp-1095321
Processing material: mp-27160
Processing material: mp-1402840
Processing material: mp-19372
Processing material: mp-1193908
Processing material: mp-770389
Processing material: mp-18847
Processing material: mp-758452
Processing material: mp-865485
Processing material: mp-542860
Processing material: mp-1188322
Processing material: mp-2234110
Processing material: mp-542151
Processing material: mp-28162
Processing material: mp-21579
Processing material: mp-1648259
Processing material: mp-971737
Processing material: mp-19007
Processing material: mp-981365
Processing material: mp-772047
Processing material: mp-20312
Processing material: mp-1048867
Processing material: mp-29058
Processing material: mp-1192799
Processing material: mp-1195122
Processing material: mp-540701
Processing material: mp-839
Processing material: mp-22568
Processing material: mp-1221
Processing material: mp-1081
Processing material: mp-22700
Processing material: mp-2567
Processing material: mp-759536
Processing material: mp-1194044
Processing material: mp-1200219
Processing material: mp-558525
Processing material: mp-4474
Processing material: mp-21504
Processing material: mp-2015720
Processing material: mp-755181
Processing material: mp-29634
Processing material: mp-559911
Processing material: mp-1207893
Processing material: mp-2026078
Processing material: mp-9948
Processing material: mp-1207855
Processing material: mp-504856
Processing material: mp-1208034
Processing material: mp-1216654
Processing material: mp-1069004
Processing material: mp-4049
Processing material: mp-5381
Processing material: mp-37297
Processing material: mp-1195074
Processing material: mp-5335
Processing material: mp-1068685
Processing material: mp-1025230
Processing material: mp-1202234
Processing material: mp-1069790
Processing material: mp-1069160
Processing material: mp-22126
Processing material: mp-5739
Processing material: mp-1216580
Processing material: mp-5268
Processing material: mp-600216
Processing material: mp-3048
Processing material: mp-1216606
Processing material: mp-9236
Processing material: mp-9278
Processing material: mp-1105580
Processing material: mp-1188211
Processing material: mp-1095100
Processing material: mp-1188099
Processing material: mp-639876
Processing material: mp-1195976
Processing material: mp-619501
Processing material: mp-5505
Processing material: mp-12625
Processing material: mp-1078777
Processing material: mp-680401
Processing material: mp-1208103
Processing material: mp-4242
Processing material: mp-630265
Processing material: mp-28838
Processing material: mp-606
Processing material: mp-1103185
Processing material: mp-1188905
Processing material: mp-20462
Processing material: mp-505344
Processing material: mp-1189121
Processing material: mp-619067
Processing material: mp-541587
Processing material: mp-27609
Processing material: mp-972422
Processing material: mp-570831
Processing material: mp-504640
Processing material: mp-560402
Processing material: mp-1216742
Processing material: mp-787
Processing material: mp-22536
Processing material: mp-1975094
Processing material: mp-1188604
Processing material: mp-971830
Processing material: mp-1078858
Processing material: mp-1217211
Processing material: mp-1205645
Processing material: mp-1207922
Processing material: mp-541856
Processing material: mp-21227
Processing material: mp-1208070
Processing material: mp-1205406
Processing material: mp-505683
Processing material: mp-1216800
Processing material: mp-1207934
Processing material: mp-570928
Processing material: mp-1199505
Processing material: mp-1189490
Processing material: mp-32590
Processing material: mp-504442
Processing material: mp-20471
Processing material: mp-541504
Processing material: mp-28939
Processing material: mp-662590
Processing material: mp-1216990
Processing material: mp-1100961
Processing material: mp-1216840
Processing material: mp-680561
Processing material: mp-1201364
Processing material: mp-1202283
Processing material: mp-1205254
Processing material: mp-569882
Processing material: mp-28356
Processing material: mp-1125186
Processing material: mp-1204195
Processing material: mp-1208218
Processing material: mp-1217510
Processing material: mp-1195848
Processing material: mp-1208288
Processing material: mp-1192708
Processing material: mp-1192855
Processing material: mp-540544
Processing material: mp-1192655
Processing material: mp-559388
Processing material: mp-1193584
Processing material: mp-2767175
Processing material: mp-1192848
Processing material: mp-1192888
Processing material: mp-1192861
Processing material: mp-1193754
Processing material: mp-1192621
Processing material: mp-1193731
Processing material: mp-1192620
Processing material: mp-1207868
Processing material: mp-569744
Processing material: mp-1723
Processing material: mp-1191305
Processing material: mp-1216319
Processing material: mp-1216345
Processing material: mp-1079219
Processing material: mp-1079949
Processing material: mp-2104
Processing material: mp-1657
Processing material: mp-4206
Processing material: mp-1077201
Processing material: mp-4374
Processing material: mp-22595
Processing material: mp-12072
Processing material: mp-1514
Processing material: mp-10116
Processing material: mp-10132
Processing material: mp-10137
Processing material: mp-1095488
Processing material: mp-1103253
Processing material: mp-1103255
Processing material: mp-5816
Processing material: mp-5311
Processing material: mp-1163
Processing material: mp-569858
Processing material: mp-972408
Processing material: mp-23255
Processing material: mp-27153
Processing material: mp-29263
Processing material: mp-27762
Processing material: mp-27536
Processing material: mp-2486
Processing material: mp-640563
Processing material: mp-23208
Processing material: mp-23235
Processing material: mp-570989
Processing material: mp-1383
Processing material: mp-10056
Processing material: mp-1079701
Processing material: mp-2766602
Processing material: mp-1191170
Processing material: mp-17151
Processing material: mp-18299
Processing material: mp-287
Processing material: mp-1852
Processing material: mp-21050
Processing material: mp-1087511
Processing material: mp-1095137
Processing material: mp-607816
Processing material: mp-20121
Processing material: mp-20214
Processing material: mp-4732
Processing material: mp-1078098
Processing material: mp-623006
Processing material: mp-21251
Processing material: mp-1077911
Processing material: mp-1078074
Processing material: mp-1078033
Processing material: mp-1078343
Processing material: mp-1207973
Processing material: mp-1078586
Processing material: mp-1079968
Processing material: mp-21320
Processing material: mp-1080077
Processing material: mp-1078870
Processing material: mp-1078880
Processing material: mp-1237
Processing material: mp-2607
Processing material: mp-20226
Processing material: mp-1102677
Processing material: mp-22065
Processing material: mp-20321
Processing material: mp-20913
Processing material: mp-3579
Processing material: mp-3109
Processing material: mp-504970
Processing material: mp-23244
Processing material: mp-27763
Processing material: mp-20941
Processing material: mp-1105762
Processing material: mp-1044
Processing material: mp-21643
Processing material: mp-1190612
Processing material: mp-1207882
Processing material: mp-1216584
Processing material: mp-1865
Processing material: mp-23019
Processing material: mp-1207913
Processing material: mp-1217640
Processing material: mp-2752771
Processing material: mp-21826
Processing material: mp-1207854
Processing material: mp-22159
Processing material: mp-972320
Processing material: mp-1102933
Processing material: mp-1216793
Processing material: mp-1597
Processing material: mp-2011
Processing material: mp-569147
Processing material: mp-1200695
Processing material: mp-540927
Processing material: mp-4450
Processing material: mp-9930
Processing material: mp-30841
Processing material: mp-1206028
Processing material: mp-21103
Processing material: mp-569752
Processing material: mp-30854
Processing material: mp-30855
Processing material: mp-1077347
Processing material: mp-1072444
Processing material: mp-1102585
Processing material: mp-1105571
Processing material: mp-1150
Processing material: mp-2423
Processing material: mp-2849
Processing material: mp-12406
Processing material: mp-3263
Processing material: mp-177
Processing material: mp-2707
Processing material: mp-510574
Processing material: mp-4207
Processing material: mp-505019
Processing material: mp-10624
Processing material: mp-1095127
Processing material: mp-1071765
Processing material: mp-9937
Processing material: mp-7935
Processing material: mp-2143
Processing material: mp-684555
Processing material: mp-9429
Processing material: mp-3217
Processing material: mp-19924
Processing material: mp-980
Processing material: mp-1068256
Processing material: mp-19806
Processing material: mp-504984
Processing material: mp-1216805
Processing material: mp-1102216
Processing material: mp-20336
Processing material: mp-1071536
Processing material: mp-1080803
Processing material: mp-20762
Processing material: mp-1079696
Processing material: mp-504687
Processing material: mp-1207909
Processing material: mp-865409
Processing material: mp-1188570
Processing material: mp-666
Processing material: mp-22231
Processing material: mp-542131
Processing material: mp-4895
Processing material: mp-3402
Processing material: mp-3037
Processing material: mp-19866
Processing material: mp-1102966
Processing material: mp-27382
Processing material: mp-865322
Processing material: mp-1207879
Processing material: mp-672368
Processing material: mp-21899
Processing material: mp-15361
Processing material: mp-849323
Processing material: mp-557295
Processing material: mp-753398
Processing material: mp-4656
Processing material: mp-1216148
Processing material: mp-1188251
Processing material: mp-4908
Processing material: mp-22618
Processing material: mp-12077
Processing material: mp-21113
Processing material: mp-1194620
Processing material: mp-1104485
Processing material: mp-10896
Processing material: mp-20649
Processing material: mp-22267
Processing material: mp-3854
Processing material: mp-22260
Processing material: mp-1217060
Processing material: mp-1197605
Processing material: mp-1207824
Processing material: mp-1207812
Processing material: mp-1207809
Processing material: mp-1207989
Processing material: mp-600480
Processing material: mp-1200125
Processing material: mp-1106140
Processing material: mp-1205726
Processing material: mp-1189611
Processing material: mp-1188435
Processing material: mp-2017630
Processing material: mp-1025372
Processing material: mp-5434
Processing material: mp-1207957
Processing material: mp-1379819
Processing material: mp-1206356
Processing material: mp-21294
Processing material: mp-1191749
Processing material: mp-18831
Processing material: mp-1198388
Processing material: mp-574339
Processing material: mp-31011
Processing material: mp-865651
Processing material: mp-1187722
Processing material: mp-1216267
Processing material: mp-14542
Processing material: mp-1105633
Processing material: mp-981249
Processing material: mp-677237
Processing material: mp-1216177
Processing material: mp-1207784
Processing material: mp-18706
Processing material: mp-675733
Processing material: mp-1216287
Processing material: mp-582751
Processing material: mp-1189138
Processing material: mp-760098
Processing material: mp-642238
Processing material: mp-1203616
Processing material: mp-1205373
Processing material: mp-1106074
Processing material: mp-1188555
Processing material: mp-1207941
Processing material: mp-1205904
Processing material: mp-28863
Processing material: mp-28862
Processing material: mp-567678
Processing material: mp-1192970
Processing material: mp-762369
Processing material: mp-865373
Processing material: mp-1294
Processing material: mp-5019
Processing material: mp-1203265
Processing material: mp-1207655
Processing material: mp-505011
Processing material: mp-1207600
Processing material: mp-21422
Processing material: mp-1101785
Processing material: mp-1207632
Processing material: mp-18725
Processing material: mp-1285565
Processing material: mp-1570
Processing material: mp-1102392
Processing material: mp-11385
Processing material: mp-1207634
Processing material: mp-1215958
Processing material: mp-30557
Processing material: mp-1215900
Processing material: mp-865596
Processing material: mp-3433
Processing material: mp-510598
Processing material: mp-1191988
Processing material: mp-19385
Processing material: mp-21249
Processing material: mp-569196
Processing material: mp-2152
Processing material: mp-19242
Processing material: mp-865430
Processing material: mp-5042
Processing material: mp-22179
Processing material: mp-1215946
Processing material: mp-27496
Processing material: mp-1215718
Processing material: mp-1215765
Processing material: mp-1215708
Processing material: mp-18883
Processing material: mp-4194
Processing material: mp-4697
Processing material: mp-19313
Processing material: mp-1047462
Processing material: mp-1722
Processing material: mp-1029458
Processing material: mp-861852
Processing material: mp-972048
Processing material: mp-1207450
Processing material: mp-1392030
Processing material: mp-19410
Processing material: mp-35311
Processing material: mp-1369804
Processing material: mp-1396958
Processing material: mp-977361
Processing material: mp-1215609
Processing material: mp-1407092
Processing material: mp-15637
Processing material: mp-1400616
Processing material: mp-1105077
Processing material: mp-1215723
Processing material: mp-981356
Processing material: mp-1103910
Processing material: mp-22084
Processing material: mp-768613
Processing material: mp-1195553
Processing material: mp-1193087
Processing material: mp-1215595
Processing material: mp-972631
Processing material: mp-18133
Processing material: mp-972327
Processing material: mp-4022
Processing material: mp-864896
Processing material: mp-540809
Processing material: mp-21040
Processing material: mp-16336
Processing material: mp-1215554
Processing material: mp-1102059
Processing material: mp-1215471
Processing material: mp-22150
Processing material: mp-1196264
Processing material: mp-1215479
Processing material: mp-1202025
Processing material: mp-1191025
Processing material: mp-1215874
Processing material: mp-1215720
Processing material: mp-1215704
Processing material: mp-30676
Processing material: mp-17435
Processing material: mp-1105702
Processing material: mp-1215734
Processing material: mp-1189764
Processing material: mp-1106169
Processing material: mp-1216998
Processing material: mp-1194423
Processing material: mp-30569
Processing material: mp-1207507
Processing material: mp-1192960
Processing material: mp-1207526
Processing material: mp-12962
Processing material: mp-1207263
Processing material: mp-9381
Processing material: mp-1080526
Processing material: mp-1205996
Processing material: mp-1207560
Processing material: mp-1206012
Processing material: mp-1207414
Processing material: mp-610190
Processing material: mp-3909
Processing material: mp-1215318
Processing material: mp-1215319
Processing material: mp-2283
Processing material: mp-22503
Processing material: mp-1198615
Processing material: mp-556360
Processing material: mp-1103148
Processing material: mp-1188065
Processing material: mp-1102565
Processing material: mp-30563
Processing material: mp-2459069
Processing material: mp-1718
Processing material: mp-2767155
Processing material: mp-562418
Processing material: mp-1201558
Processing material: mp-1079246
Processing material: mp-1188052
Processing material: mp-2027032
Processing material: mp-2116
Processing material: mp-1206098
Processing material: mp-20059
Processing material: mp-1198917
Processing material: mp-20147
Processing material: mp-1188022
Processing material: mp-22227
Processing material: mp-1206530
Processing material: mp-1188031
Processing material: mp-1215207
Processing material: mp-12889
Processing material: mp-1215248
Processing material: mp-1215176
Processing material: mp-1215261
Processing material: mp-1401
     material_id                                           features
0      mp-866101  [0.034564520781301906, -0.021964951645489516, ...
1     mp-1006278  [0.09116477267570224, -0.020771136032048304, 0...
2     mp-1183124  [-0.016525383245708087, 0.012654252961144582, ...
3      mp-861502  [0.032457623360230295, -0.025593760616601038, ...
4      mp-864911  [0.033268739456372334, -0.023624416551478806, ...
...          ...                                                ...
5735    mp-12889  [0.019908583060276156, 0.017317300818035418, 0...
5736  mp-1215248  [0.008572120209416702, -0.00042085987774751333...
5737  mp-1215176  [-0.0044305417367528944, 0.00773183437402287, ...
5738  mp-1215261  [0.035089160602986495, 0.02517746244475388, 0....
5739     mp-1401  [0.0215573699545378, -0.005654499608002252, 0....

[5740 rows x 2 columns]

compound_df
     
nsites	Chemsys	material_id	ordering	total_magnetization	total_magnetization_normalized_vol	total_magnetization_normalized_atoms	formation_energy_per_atom	energy_above_hull
0	5	Ac-Cr-O	mp-866101	FM	3.000000	0.048890	0.600000	-3.138972	0
1	4	Ac-Au-Eu	mp-1006278	FM	7.413205	0.066629	1.853301	-0.779867	0
2	4	Ac-Eu-Zn	mp-1183124	FM	7.023200	0.062251	1.755800	-0.261696	0
3	5	Ac-Fe-O	mp-861502	FM	4.254276	0.068842	0.850855	-2.771539	0
4	5	Ac-Mn-O	mp-864911	FM	3.999993	0.064266	0.799999	-2.973630	0
...	...	...	...	...	...	...	...	...	...
5949	18	Sb-U-Zr	mp-12889	FM	15.857187	0.033430	0.880955	-0.746757	0
5950	4	N-U-Zr	mp-1215248	FM	2.095059	0.039252	0.523765	-1.840461	0
5951	4	S-U-Zr	mp-1215176	FM	2.742706	0.035114	0.685677	-1.662938	0
5952	12	Fe-V-Zr	mp-1215261	FiM	2.937033	0.015563	0.244753	-0.187117	0
5953	6	Zn-Zr	mp-1401	FM	2.207073	0.022170	0.367846	-0.368674	0
5741 rows × 9 columns

Magnetic ordering prediction

result = df_features.merge(compound_df[['material_id', 'ordering']], on='material_id', how='left')
result = result.rename(columns={'features': 'outer_product'})
print(result)
     
     material_id                                      outer_product ordering
0      mp-866101  [0.034564520781301906, -0.021964951645489516, ...       FM
1     mp-1006278  [0.09116477267570224, -0.020771136032048304, 0...       FM
2     mp-1183124  [-0.016525383245708087, 0.012654252961144582, ...       FM
3      mp-861502  [0.032457623360230295, -0.025593760616601038, ...       FM
4      mp-864911  [0.033268739456372334, -0.023624416551478806, ...       FM
...          ...                                                ...      ...
5735    mp-12889  [0.019908583060276156, 0.017317300818035418, 0...       FM
5736  mp-1215248  [0.008572120209416702, -0.00042085987774751333...       FM
5737  mp-1215176  [-0.0044305417367528944, 0.00773183437402287, ...       FM
5738  mp-1215261  [0.035089160602986495, 0.02517746244475388, 0....      FiM
5739     mp-1401  [0.0215573699545378, -0.005654499608002252, 0....       FM

[5740 rows x 3 columns]

result['ordering'] = encoder.fit_transform(result['ordering'])
     

print("Class mappings:", dict(zip(encoder.classes_, range(len(encoder.classes_)))))
     
Class mappings: {'FM': 0, 'FiM': 1}
90:10


from sklearn.model_selection import train_test_split
from lightgbm import LGBMClassifier
from sklearn.metrics import classification_report, accuracy_score

outer_product_df = pd.DataFrame(result['outer_product'].tolist(), columns=[f'feature_{i+1}' for i in range(518)])
df_features_expanded = pd.concat([outer_product_df, result['ordering']], axis=1)

X = df_features_expanded.drop('ordering', axis=1)
y = df_features_expanded['ordering']

X_train, X_test, y_train, y_test = train_test_split(X, y, test_size=0.1, random_state=42)

class_weight = {0: 1, 1: 3}
model = LGBMClassifier(
    n_estimators=50,
    max_depth=6,
    learning_rate=0.1,
    num_leaves=10,
    class_weight=class_weight,
    min_child_samples=10,
    subsample=0.5,
    reg_alpha=0.1,
    reg_lambda=0.3,
    colsample_bytree=0.3,
    random_state=42
)

model.fit(X_train, y_train)

y_train_pred = model.predict(X_train)

y_test_pred = model.predict(X_test)

print("Training Accuracy:", accuracy_score(y_train, y_train_pred))
print("Training Classification Report:")
print(classification_report(y_train, y_train_pred))

print("Testing Accuracy:", accuracy_score(y_test, y_test_pred))
print("Testing Classification Report:")
print(classification_report(y_test, y_test_pred))
     
[LightGBM] [Info] Number of positive: 1148, number of negative: 4018
[LightGBM] [Info] Auto-choosing col-wise multi-threading, the overhead of testing was 0.027614 seconds.
You can set `force_col_wise=true` to remove the overhead.
[LightGBM] [Info] Total Bins 132090
[LightGBM] [Info] Number of data points in the train set: 5166, number of used features: 518
[LightGBM] [Info] [binary:BoostFromScore]: pavg=0.461538 -> initscore=-0.154151
[LightGBM] [Info] Start training from score -0.154151
Training Accuracy: 0.854045683313976
Training Classification Report:
              precision    recall  f1-score   support

           0       0.94      0.87      0.90      4018
           1       0.63      0.81      0.71      1148

    accuracy                           0.85      5166
   macro avg       0.79      0.84      0.81      5166
weighted avg       0.87      0.85      0.86      5166

Testing Accuracy: 0.8414634146341463
Testing Classification Report:
              precision    recall  f1-score   support

           0       0.93      0.86      0.90       465
           1       0.56      0.74      0.64       109

    accuracy                           0.84       574
   macro avg       0.75      0.80      0.77       574
weighted avg       0.86      0.84      0.85       574


import matplotlib.pyplot as plt
from sklearn.metrics import roc_curve, roc_auc_score

y_train_prob = model.predict_proba(X_train)[:, 1]
y_test_prob = model.predict_proba(X_test)[:, 1]

train_roc_auc = roc_auc_score(y_train, y_train_prob)
test_roc_auc = roc_auc_score(y_test, y_test_prob)

print(f"Training ROC-AUC: {train_roc_auc}")
print(f"Testing ROC-AUC: {test_roc_auc}")

fpr_train, tpr_train, thresholds_train = roc_curve(y_train, y_train_prob)
fpr_test, tpr_test, thresholds_test = roc_curve(y_test, y_test_prob)

plt.figure(figsize=(10, 6))
plt.plot(fpr_train, tpr_train, color='blue', label=f'Training ROC curve (AUC = {train_roc_auc:.2f})')
plt.plot(fpr_test, tpr_test, color='red', label=f'Testing ROC curve (AUC = {test_roc_auc:.2f})')
plt.plot([0, 1], [0, 1], color='gray', linestyle='--')
plt.xlabel('False Positive Rate')
plt.ylabel('True Positive Rate')
plt.title('ROC Curve')
plt.legend(loc='lower right')
plt.show()
     
Training ROC-AUC: 0.9269958748350194
Testing ROC-AUC: 0.8833579954621682

70:30


from sklearn.model_selection import train_test_split
from lightgbm import LGBMClassifier
from sklearn.metrics import classification_report, accuracy_score

outer_product_df = pd.DataFrame(result['outer_product'].tolist(), columns=[f'feature_{i+1}' for i in range(518)])
df_features_expanded = pd.concat([outer_product_df, result['ordering']], axis=1)

X = df_features_expanded.drop('ordering', axis=1)
y = df_features_expanded['ordering']

X_train, X_test, y_train, y_test = train_test_split(X, y, test_size=0.3, random_state=42)

class_weight = {0: 2, 1: 7}
model = LGBMClassifier(
    n_estimators=25,
    max_depth=8,
    learning_rate=0.1,
    num_leaves=9,
    class_weight=class_weight,
    min_child_samples=12,
    subsample=0.4,
    reg_alpha=0.1,
    reg_lambda=0.3,
    colsample_bytree=0.3,
    random_state=42
)

model.fit(X_train, y_train)

y_train_pred = model.predict(X_train)
y_test_pred = model.predict(X_test)

print("Training Accuracy:", accuracy_score(y_train, y_train_pred))
print("Training Classification Report:")
print(classification_report(y_train, y_train_pred))

print("Testing Accuracy:", accuracy_score(y_test, y_test_pred))
print("Testing Classification Report:")
print(classification_report(y_test, y_test_pred))
     
[LightGBM] [Info] Number of positive: 881, number of negative: 3137
[LightGBM] [Info] Auto-choosing col-wise multi-threading, the overhead of testing was 0.026896 seconds.
You can set `force_col_wise=true` to remove the overhead.
[LightGBM] [Info] Total Bins 132090
[LightGBM] [Info] Number of data points in the train set: 4018, number of used features: 518
[LightGBM] [Info] [binary:BoostFromScore]: pavg=0.495700 -> initscore=-0.017202
[LightGBM] [Info] Start training from score -0.017202
Training Accuracy: 0.8163265306122449
Training Classification Report:
              precision    recall  f1-score   support

           0       0.94      0.82      0.87      3137
           1       0.56      0.80      0.66       881

    accuracy                           0.82      4018
   macro avg       0.75      0.81      0.77      4018
weighted avg       0.85      0.82      0.83      4018

Testing Accuracy: 0.8019744483159117
Testing Classification Report:
              precision    recall  f1-score   support

           0       0.92      0.82      0.87      1346
           1       0.53      0.74      0.62       376

    accuracy                           0.80      1722
   macro avg       0.73      0.78      0.74      1722
weighted avg       0.83      0.80      0.81      1722


import matplotlib.pyplot as plt
from sklearn.metrics import roc_curve, roc_auc_score

y_train_prob = model.predict_proba(X_train)[:, 1]
y_test_prob = model.predict_proba(X_test)[:, 1]

train_roc_auc = roc_auc_score(y_train, y_train_prob)
test_roc_auc = roc_auc_score(y_test, y_test_prob)

print(f"Training ROC-AUC: {train_roc_auc}")
print(f"Testing ROC-AUC: {test_roc_auc}")

fpr_train, tpr_train, thresholds_train = roc_curve(y_train, y_train_prob)
fpr_test, tpr_test, thresholds_test = roc_curve(y_test, y_test_prob)

plt.figure(figsize=(10, 6))
plt.plot(fpr_train, tpr_train, color='blue', label=f'Training ROC curve (AUC = {train_roc_auc:.2f})')
plt.plot(fpr_test, tpr_test, color='red', label=f'Testing ROC curve (AUC = {test_roc_auc:.2f})')
plt.plot([0, 1], [0, 1], color='gray', linestyle='--')
plt.xlabel('False Positive Rate')
plt.ylabel('True Positive Rate')
plt.title('ROC Curve')
plt.legend(loc='lower right')
plt.show()
     
Training ROC-AUC: 0.8991436108951162
Testing ROC-AUC: 0.846440201068572

Magnetic moment prediction

result = df_features.merge(compound_df[['material_id', 'total_magnetization_normalized_atoms']], on='material_id', how='left')
result = result.rename(columns={'features': 'outer_product'})
print(result)
     
     material_id                                      outer_product  \
0      mp-866101  [0.034564520781301906, -0.021964951645489516, ...   
1     mp-1006278  [0.09116477267570224, -0.020771136032048304, 0...   
2     mp-1183124  [-0.016525383245708087, 0.012654252961144582, ...   
3      mp-861502  [0.032457623360230295, -0.025593760616601038, ...   
4      mp-864911  [0.033268739456372334, -0.023624416551478806, ...   
...          ...                                                ...   
5735    mp-12889  [0.019908583060276156, 0.017317300818035418, 0...   
5736  mp-1215248  [0.008572120209416702, -0.00042085987774751333...   
5737  mp-1215176  [-0.0044305417367528944, 0.00773183437402287, ...   
5738  mp-1215261  [0.035089160602986495, 0.02517746244475388, 0....   
5739     mp-1401  [0.0215573699545378, -0.005654499608002252, 0....   

      total_magnetization_normalized_atoms  
0                                 0.600000  
1                                 1.853301  
2                                 1.755800  
3                                 0.850855  
4                                 0.799999  
...                                    ...  
5735                              0.880955  
5736                              0.523765  
5737                              0.685677  
5738                              0.244753  
5739                              0.367846  

[5740 rows x 3 columns]
Linear regression - Magnetic moment


from sklearn.linear_model import LinearRegression
from sklearn.model_selection import train_test_split
from sklearn.metrics import mean_squared_error, mean_absolute_error, r2_score

outer_product_df = pd.DataFrame(result['outer_product'].tolist(), columns=[f'feature_{i+1}' for i in range(518)])
df_features_expanded = pd.concat([outer_product_df, result['total_magnetization_normalized_atoms']], axis=1)

X = df_features_expanded.drop('total_magnetization_normalized_atoms', axis=1)
y = df_features_expanded['total_magnetization_normalized_atoms']

X_train, X_test, y_train, y_test = train_test_split(X, y, test_size=0.1, random_state=42)

model = LinearRegression()
model.fit(X_train, y_train)

y_train_pred = model.predict(X_train)
y_test_pred = model.predict(X_test)

print("TRAINING SET PERFORMANCE:")
print("Mean Squared Error (Train):", mean_squared_error(y_train, y_train_pred))
print("Mean Absolute Error (Train):", mean_absolute_error(y_train, y_train_pred))
print("R² Score (Train):", r2_score(y_train, y_train_pred))

print("\nTEST SET PERFORMANCE:")
print("Mean Squared Error (Test):", mean_squared_error(y_test, y_test_pred))
print("Mean Absolute Error (Test):", mean_absolute_error(y_test, y_test_pred))
print("R² Score (Test):", r2_score(y_test, y_test_pred))
     
TRAINING SET PERFORMANCE:
Mean Squared Error (Train): 0.09967919271225134
Mean Absolute Error (Train): 0.21849328358322456
R² Score (Train): 0.8529320793516981

TEST SET PERFORMANCE:
Mean Squared Error (Test): 0.13197689505542118
Mean Absolute Error (Test): 0.25810269971641736
R² Score (Test): 0.7770885108303968
LightGBM - Magnetic Moment

90:10


import lightgbm as lgb
from sklearn.model_selection import train_test_split
from sklearn.metrics import mean_squared_error, mean_absolute_error, r2_score
from scipy.stats import pearsonr

outer_product_df = pd.DataFrame(result['outer_product'].tolist(), columns=[f'feature_{i+1}' for i in range(518)])
df_features_expanded = pd.concat([outer_product_df, result['total_magnetization_normalized_atoms']], axis=1)

X = df_features_expanded.drop('total_magnetization_normalized_atoms', axis=1)
y = df_features_expanded['total_magnetization_normalized_atoms']

X_train, X_test, y_train, y_test = train_test_split(X, y, test_size=0.1, random_state=42)

model = lgb.LGBMRegressor(
    n_estimators=200,
    learning_rate=0.08,
    max_depth=8,
    num_leaves=18,
    subsample=0.5,
    reg_alpha=1.0,
    reg_lambda=1.0,
    colsample_bytree=0.25,
    min_child_samples=15,
    random_state=42
)

model.fit(X_train, y_train)

y_train_pred = model.predict(X_train)
y_test_pred = model.predict(X_test)

def rmse(y_true, y_pred):
    return np.sqrt(mean_squared_error(y_true, y_pred))

def correlation_coefficient(y_true, y_pred):
    return pearsonr(y_true, y_pred)[0]

print("TRAINING SET PERFORMANCE:")
print("Mean Squared Error (Train):", mean_squared_error(y_train, y_train_pred))
print("Root Mean Squared Error (Train):", rmse(y_train, y_train_pred))
print("Mean Absolute Error (Train):", mean_absolute_error(y_train, y_train_pred))
print("R² Score (Train):", r2_score(y_train, y_train_pred))
print("Correlation Coefficient (Train):", correlation_coefficient(y_train, y_train_pred))

print("\nTEST SET PERFORMANCE:")
print("Mean Squared Error (Test):", mean_squared_error(y_test, y_test_pred))
print("Root Mean Squared Error (Test):", rmse(y_test, y_test_pred))
print("Mean Absolute Error (Test):", mean_absolute_error(y_test, y_test_pred))
print("R² Score (Test):", r2_score(y_test, y_test_pred))
print("Correlation Coefficient (Test):", correlation_coefficient(y_test, y_test_pred))
     
[LightGBM] [Info] Auto-choosing col-wise multi-threading, the overhead of testing was 0.030370 seconds.
You can set `force_col_wise=true` to remove the overhead.
[LightGBM] [Info] Total Bins 132090
[LightGBM] [Info] Number of data points in the train set: 5166, number of used features: 518
[LightGBM] [Info] Start training from score 0.732051
TRAINING SET PERFORMANCE:
Mean Squared Error (Train): 0.028853132055478244
Root Mean Squared Error (Train): 0.16986209717143563
Mean Absolute Error (Train): 0.12421222275474542
R² Score (Train): 0.957429730115897
Correlation Coefficient (Train): 0.9791646103455008

TEST SET PERFORMANCE:
Mean Squared Error (Test): 0.07610359110686997
Root Mean Squared Error (Test): 0.27586879328200564
Mean Absolute Error (Test): 0.19027457124266284
R² Score (Test): 0.8714595852731413
Correlation Coefficient (Test): 0.9338949275286276

import matplotlib.pyplot as plt

max_limit = max(max(y_test), max(y_test_pred))

plt.figure(figsize=(8, 6))
plt.scatter(y_test, y_test_pred, color='blue', alpha=0.5, s=25, edgecolor='none')
plt.plot([0, max_limit], [0, max_limit], color='red', linestyle='--', lw=2)

plt.xlim(0, max_limit)
plt.ylim(0, max_limit)

plt.xlabel("Actual Magnetic Moment per Atom [μB/Atom]")
plt.ylabel("Predicted Magnetic Moment per Atom [μB/Atom]")
plt.grid(False)
plt.show()
     

70:30


import lightgbm as lgb
from sklearn.model_selection import train_test_split
from sklearn.metrics import mean_absolute_error, r2_score
from scipy.stats import pearsonr

outer_product_df = pd.DataFrame(result['outer_product'].tolist(), columns=[f'feature_{i+1}' for i in range(518)])
df_features_expanded = pd.concat([outer_product_df, result['total_magnetization_normalized_atoms']], axis=1)

X = df_features_expanded.drop('total_magnetization_normalized_atoms', axis=1)
y = df_features_expanded['total_magnetization_normalized_atoms']

X_train, X_test, y_train, y_test = train_test_split(X, y, test_size=0.3, random_state=42)

model = lgb.LGBMRegressor(
    n_estimators=75,
    learning_rate=0.08,
    max_depth=8,
    num_leaves=12,
    subsample=0.30,
    reg_alpha=0.5,
    reg_lambda=0.5,
    colsample_bytree=0.3,
    min_child_samples=15,
    random_state=42
)
model.fit(X_train, y_train)

y_train_pred = model.predict(X_train)
y_test_pred = model.predict(X_test)

def rmse(y_true, y_pred):
    return np.sqrt(np.mean((y_true - y_pred) ** 2))

def pearson_corr(y_true, y_pred):
    return pearsonr(y_true, y_pred)[0]

print("TRAINING SET PERFORMANCE:")
print("Root Mean Squared Error (Train):", rmse(y_train, y_train_pred))
print("Mean Absolute Error (Train):", mean_absolute_error(y_train, y_train_pred))
print("R² Score (Train):", r2_score(y_train, y_train_pred))
print("Pearson Correlation Coefficient (Train):", pearson_corr(y_train, y_train_pred))

print("\nTEST SET PERFORMANCE:")
print("Root Mean Squared Error (Test):", rmse(y_test, y_test_pred))
print("Mean Absolute Error (Test):", mean_absolute_error(y_test, y_test_pred))
print("R² Score (Test):", r2_score(y_test, y_test_pred))
print("Pearson Correlation Coefficient (Test):", pearson_corr(y_test, y_test_pred))
     
[LightGBM] [Info] Auto-choosing col-wise multi-threading, the overhead of testing was 0.022846 seconds.
You can set `force_col_wise=true` to remove the overhead.
[LightGBM] [Info] Total Bins 132090
[LightGBM] [Info] Number of data points in the train set: 4018, number of used features: 518
[LightGBM] [Info] Start training from score 0.735971
TRAINING SET PERFORMANCE:
Root Mean Squared Error (Train): 0.27390722356149827
Mean Absolute Error (Train): 0.20101062608231163
R² Score (Train): 0.8897118097601765
Pearson Correlation Coefficient (Train): 0.9450612894354673

TEST SET PERFORMANCE:
Root Mean Squared Error (Test): 0.3586764219173447
Mean Absolute Error (Test): 0.24417527277318185
R² Score (Test): 0.8000204448540755
Pearson Correlation Coefficient (Test): 0.8947761927960604

import matplotlib.pyplot as plt

max_limit = max(max(y_test), max(y_test_pred))

plt.figure(figsize=(8, 6))
plt.scatter(y_test, y_test_pred, color='blue', alpha=0.5, s=25, edgecolor='none')
plt.plot([0, max_limit], [0, max_limit], color='red', linestyle='--', lw=2)

plt.xlim(0, max_limit)
plt.ylim(0, max_limit)

plt.xlabel("Actual Magnetic Moment per Atom [μB/Atom]")
plt.ylabel("Predicted Magnetic Moment per Atom [μB/Atom]")
plt.grid(False)
plt.show()
     

Formation energy prediction

result = df_features.merge(compound_df[['material_id', 'formation_energy_per_atom']], on='material_id', how='left')
result = result.rename(columns={'features': 'outer_product'})
print(result)
     
     material_id                                      outer_product  \
0      mp-866101  [0.034564520781301906, -0.021964951645489516, ...   
1     mp-1006278  [0.09116477267570224, -0.020771136032048304, 0...   
2     mp-1183124  [-0.016525383245708087, 0.012654252961144582, ...   
3      mp-861502  [0.032457623360230295, -0.025593760616601038, ...   
4      mp-864911  [0.033268739456372334, -0.023624416551478806, ...   
...          ...                                                ...   
5735    mp-12889  [0.019908583060276156, 0.017317300818035418, 0...   
5736  mp-1215248  [0.008572120209416702, -0.00042085987774751333...   
5737  mp-1215176  [-0.0044305417367528944, 0.00773183437402287, ...   
5738  mp-1215261  [0.035089160602986495, 0.02517746244475388, 0....   
5739     mp-1401  [0.0215573699545378, -0.005654499608002252, 0....   

      formation_energy_per_atom  
0                     -3.138972  
1                     -0.779867  
2                     -0.261696  
3                     -2.771539  
4                     -2.973630  
...                         ...  
5735                  -0.746757  
5736                  -1.840461  
5737                  -1.662938  
5738                  -0.187117  
5739                  -0.368674  

[5740 rows x 3 columns]
90:10


import lightgbm as lgb
from sklearn.model_selection import train_test_split
from sklearn.metrics import mean_squared_error, mean_absolute_error, r2_score
from scipy.stats import pearsonr

outer_product_df = pd.DataFrame(result['outer_product'].tolist(), columns=[f'feature_{i+1}' for i in range(518)])
df_features_expanded = pd.concat([outer_product_df, result['formation_energy_per_atom']], axis=1)

X = df_features_expanded.drop('formation_energy_per_atom', axis=1)
y = df_features_expanded['formation_energy_per_atom']

X_train, X_test, y_train, y_test = train_test_split(X, y, test_size=0.1, random_state=42)

model = lgb.LGBMRegressor(
    n_estimators=100,
    learning_rate=0.05,
    max_depth=12,
    num_leaves=30,
    subsample=0.75,
    reg_alpha=1.0,
    reg_lambda=1.0,
    colsample_bytree=0.6,
    min_child_samples=60,
    random_state=42
)
model.fit(X_train, y_train)

y_train_pred = model.predict(X_train)
y_test_pred = model.predict(X_test)

def rmse(y_true, y_pred):
    return np.sqrt(mean_squared_error(y_true, y_pred))

def correlation_coefficient(y_true, y_pred):
    return pearsonr(y_true, y_pred)[0]

print("TRAINING SET PERFORMANCE:")
print("Mean Squared Error (Train):", mean_squared_error(y_train, y_train_pred))
print("Root Mean Squared Error (Train):", rmse(y_train, y_train_pred))
print("Mean Absolute Error (Train):", mean_absolute_error(y_train, y_train_pred))
print("R² Score (Train):", r2_score(y_train, y_train_pred))
print("Correlation Coefficient (Train):", correlation_coefficient(y_train, y_train_pred))

print("\nTEST SET PERFORMANCE:")
print("Mean Squared Error (Test):", mean_squared_error(y_test, y_test_pred))
print("Root Mean Squared Error (Test):", rmse(y_test, y_test_pred))
print("Mean Absolute Error (Test):", mean_absolute_error(y_test, y_test_pred))
print("R² Score (Test):", r2_score(y_test, y_test_pred))
print("Correlation Coefficient (Test):", correlation_coefficient(y_test, y_test_pred))
     
[LightGBM] [Info] Auto-choosing col-wise multi-threading, the overhead of testing was 0.036090 seconds.
You can set `force_col_wise=true` to remove the overhead.
[LightGBM] [Info] Total Bins 132090
[LightGBM] [Info] Number of data points in the train set: 5166, number of used features: 518
[LightGBM] [Info] Start training from score -1.136775
TRAINING SET PERFORMANCE:
Mean Squared Error (Train): 0.019536908845699308
Root Mean Squared Error (Train): 0.13977449282934032
Mean Absolute Error (Train): 0.1016005580103043
R² Score (Train): 0.9786015271583188
Correlation Coefficient (Train): 0.9895150701169265

TEST SET PERFORMANCE:
Mean Squared Error (Test): 0.0390085928981594
Root Mean Squared Error (Test): 0.19750593129868127
Mean Absolute Error (Test): 0.13817654539684718
R² Score (Test): 0.9569385092930813
Correlation Coefficient (Test): 0.9784235120180782

min_val = min(min(y_test), min(y_test_pred))
min_tick = int(np.floor(min_val))

ticks = np.arange(min_tick, 1, 1)

plt.figure(figsize=(8, 6))
plt.scatter(y_test, y_test_pred, color='blue', alpha=0.5, s=25, edgecolor='none')
plt.plot([min_tick, 0], [min_tick, 0], color='red', linestyle='--', lw=2)

plt.xlim(min_tick, 0)
plt.ylim(min_tick, 0)

plt.xticks(ticks)
plt.yticks(ticks)

plt.xlabel("Actual Formation Energy per Atom [eV/Atom]")
plt.ylabel("Predicted Formation Energy per Atom [eV/Atom]")
plt.grid(False)
plt.show()
     

70:30


import lightgbm as lgb
from sklearn.model_selection import train_test_split
from sklearn.metrics import mean_squared_error, mean_absolute_error, r2_score
from scipy.stats import pearsonr

outer_product_df = pd.DataFrame(result['outer_product'].tolist(), columns=[f'feature_{i+1}' for i in range(518)])
df_features_expanded = pd.concat([outer_product_df, result['formation_energy_per_atom']], axis=1)

X = df_features_expanded.drop('formation_energy_per_atom', axis=1)
y = df_features_expanded['formation_energy_per_atom']

X_train, X_test, y_train, y_test = train_test_split(X, y, test_size=0.3, random_state=42)

model = lgb.LGBMRegressor(
    n_estimators=100,
    learning_rate=0.05,
    max_depth=12,
    num_leaves=30,
    subsample=0.75,
    reg_alpha=1.0,
    reg_lambda=1.0,
    colsample_bytree=0.6,
    min_child_samples=60,
    random_state=42
)
model.fit(X_train, y_train)

y_train_pred = model.predict(X_train)
y_test_pred = model.predict(X_test)

def rmse(y_true, y_pred):
    return np.sqrt(mean_squared_error(y_true, y_pred))

def correlation_coefficient(y_true, y_pred):
    return pearsonr(y_true, y_pred)[0]

print("TRAINING SET PERFORMANCE:")
print("Mean Squared Error (Train):", mean_squared_error(y_train, y_train_pred))
print("Root Mean Squared Error (Train):", rmse(y_train, y_train_pred))
print("Mean Absolute Error (Train):", mean_absolute_error(y_train, y_train_pred))
print("R² Score (Train):", r2_score(y_train, y_train_pred))
print("Correlation Coefficient (Train):", correlation_coefficient(y_train, y_train_pred))

print("\nTEST SET PERFORMANCE:")
print("Mean Squared Error (Test):", mean_squared_error(y_test, y_test_pred))
print("Root Mean Squared Error (Test):", rmse(y_test, y_test_pred))
print("Mean Absolute Error (Test):", mean_absolute_error(y_test, y_test_pred))
print("R² Score (Test):", r2_score(y_test, y_test_pred))
print("Correlation Coefficient (Test):", correlation_coefficient(y_test, y_test_pred))
     
[LightGBM] [Info] Auto-choosing col-wise multi-threading, the overhead of testing was 0.028605 seconds.
You can set `force_col_wise=true` to remove the overhead.
[LightGBM] [Info] Total Bins 132090
[LightGBM] [Info] Number of data points in the train set: 4018, number of used features: 518
[LightGBM] [Info] Start training from score -1.131746
[LightGBM] [Warning] No further splits with positive gain, best gain: -inf
TRAINING SET PERFORMANCE:
Mean Squared Error (Train): 0.01938327715935086
Root Mean Squared Error (Train): 0.13922383833004626
Mean Absolute Error (Train): 0.0993143573840436
R² Score (Train): 0.9785217358786304
Correlation Coefficient (Train): 0.9895254133363517

TEST SET PERFORMANCE:
Mean Squared Error (Test): 0.038282523730034115
Root Mean Squared Error (Test): 0.1956592030292317
Mean Absolute Error (Test): 0.1378615433648498
R² Score (Test): 0.9590563885921242
Correlation Coefficient (Test): 0.9798591674069442

min_val = min(min(y_test), min(y_test_pred))
min_tick = int(np.floor(min_val))

ticks = np.arange(min_tick, 1, 1)

plt.figure(figsize=(8, 6))
plt.scatter(y_test, y_test_pred, color='blue', alpha=0.5, s=25, edgecolor='none')
plt.plot([min_tick, 0], [min_tick, 0], color='red', linestyle='--', lw=2)

plt.xlim(min_tick, 0)
plt.ylim(min_tick, 0)

plt.xticks(ticks)
plt.yticks(ticks)

plt.xlabel("Actual Formation Energy per Atom [eV/Atom]")
plt.ylabel("Predicted Formation Energy per Atom [eV/Atom]")
plt.grid(False)
plt.show()
     



     